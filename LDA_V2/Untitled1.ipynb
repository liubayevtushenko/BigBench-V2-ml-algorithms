{
 "cells": [
  {
   "cell_type": "code",
   "execution_count": 1,
   "metadata": {},
   "outputs": [
    {
     "name": "stderr",
     "output_type": "stream",
     "text": [
      "/home/liuba/anaconda3/lib/python3.7/site-packages/py4j/java_collections.py:13: DeprecationWarning: Using or importing the ABCs from 'collections' instead of from 'collections.abc' is deprecated, and in 3.8 it will stop working\n",
      "  from collections import (\n",
      "/home/liuba/anaconda3/lib/python3.7/site-packages/pyspark/resultiterable.py:23: DeprecationWarning: Using or importing the ABCs from 'collections' instead of from 'collections.abc' is deprecated, and in 3.8 it will stop working\n",
      "  class ResultIterable(collections.Iterable):\n"
     ]
    }
   ],
   "source": [
    "import mlflow\n",
    "from pyspark import Row\n",
    "from pyspark.sql import SQLContext\n",
    "from pyspark.sql import SparkSession\n",
    "from pyspark.ml.feature import StopWordsRemover\n",
    "from pyspark.ml.feature import Tokenizer, CountVectorizer\n",
    "from pyspark.ml.clustering import LDA\n",
    "from pyspark.sql import functions as F\n",
    "from pyspark.sql.types import StructType, StructField, LongType\n",
    "from pyspark.sql.functions import col\n",
    "\n",
    "spark = SparkSession.builder.appName('Project').getOrCreate()\n",
    "\n",
    "dataset=spark.read.csv(\"reviews.tbl\", inferSchema = True, header = True, sep = '|')\n",
    "\n",
    "dataset.createTempView(\"product_reviews\")\n",
    "q=\"SELECT CASE pr_rating WHEN 1 THEN 'NEG' WHEN 2 THEN 'NEG' WHEN 3 THEN 'NEU' WHEN 4 THEN 'POS' WHEN 5 THEN 'POS' END AS pr_r_rating, pr_content FROM product_reviews WHERE pmod(pr_review_id, 5) IN (1,2,3)\""
   ]
  },
  {
   "cell_type": "code",
   "execution_count": 2,
   "metadata": {},
   "outputs": [],
   "source": [
    "df = spark.sql(q).toDF(\"label\", \"sentence\")\n",
    "tokenizer = Tokenizer(inputCol=\"sentence\", outputCol=\"tokens\")\n",
    "wordsData = tokenizer.transform(df)"
   ]
  },
  {
   "cell_type": "code",
   "execution_count": 3,
   "metadata": {},
   "outputs": [
    {
     "name": "stdout",
     "output_type": "stream",
     "text": [
      "+-----+--------------------+\n",
      "|label|            sentence|\n",
      "+-----+--------------------+\n",
      "|  NEU|attainments are; ...|\n",
      "|  NEU|fluffily ironic e...|\n",
      "|  NEU|dolphins about ov...|\n",
      "|  NEU|bullshit must sub...|\n",
      "|  NEG|silent decline or...|\n",
      "|  NEU|bold platelets ex...|\n",
      "|  NEU|special sustainab...|\n",
      "|  POS|quick winner afte...|\n",
      "|  NEU|frays doze whitho...|\n",
      "|  NEG|dolphins in place...|\n",
      "|  NEU|bravely permanent...|\n",
      "|  POS|ruthlessly risk-f...|\n",
      "|  NEU|best-performing d...|\n",
      "|  NEU|orbits need to in...|\n",
      "|  NEU|idle patience cou...|\n",
      "|  NEG|busy deny tithes ...|\n",
      "|  NEU|quick brave notor...|\n",
      "|  NEU|sheaves will have...|\n",
      "|  NEG|daringly fluffy f...|\n",
      "|  NEU|carefully express...|\n",
      "+-----+--------------------+\n",
      "only showing top 20 rows\n",
      "\n"
     ]
    }
   ],
   "source": [
    "df.show()"
   ]
  },
  {
   "cell_type": "code",
   "execution_count": 4,
   "metadata": {},
   "outputs": [
    {
     "name": "stdout",
     "output_type": "stream",
     "text": [
      "+-----+--------------------+--------------------+\n",
      "|label|            sentence|              tokens|\n",
      "+-----+--------------------+--------------------+\n",
      "|  NEU|attainments are; ...|[attainments, are...|\n",
      "|  NEU|fluffily ironic e...|[fluffily, ironic...|\n",
      "|  NEU|dolphins about ov...|[dolphins, about,...|\n",
      "|  NEU|bullshit must sub...|[bullshit, must, ...|\n",
      "|  NEG|silent decline or...|[silent, decline,...|\n",
      "|  NEU|bold platelets ex...|[bold, platelets,...|\n",
      "|  NEU|special sustainab...|[special, sustain...|\n",
      "|  POS|quick winner afte...|[quick, winner, a...|\n",
      "|  NEU|frays doze whitho...|[frays, doze, whi...|\n",
      "|  NEG|dolphins in place...|[dolphins, in, pl...|\n",
      "|  NEU|bravely permanent...|[bravely, permane...|\n",
      "|  POS|ruthlessly risk-f...|[ruthlessly, risk...|\n",
      "|  NEU|best-performing d...|[best-performing,...|\n",
      "|  NEU|orbits need to in...|[orbits, need, to...|\n",
      "|  NEU|idle patience cou...|[idle, patience, ...|\n",
      "|  NEG|busy deny tithes ...|[busy, deny, tith...|\n",
      "|  NEU|quick brave notor...|[quick, brave, no...|\n",
      "|  NEU|sheaves will have...|[sheaves, will, h...|\n",
      "|  NEG|daringly fluffy f...|[daringly, fluffy...|\n",
      "|  NEU|carefully express...|[carefully, expre...|\n",
      "+-----+--------------------+--------------------+\n",
      "only showing top 20 rows\n",
      "\n"
     ]
    }
   ],
   "source": [
    "wordsData.show()"
   ]
  },
  {
   "cell_type": "code",
   "execution_count": 5,
   "metadata": {},
   "outputs": [],
   "source": [
    "remover = StopWordsRemover(inputCol=\"tokens\", outputCol=\"words\")\n",
    "cleaned = remover.transform(wordsData)"
   ]
  },
  {
   "cell_type": "code",
   "execution_count": 6,
   "metadata": {},
   "outputs": [
    {
     "name": "stdout",
     "output_type": "stream",
     "text": [
      "+-----+--------------------+--------------------+--------------------+\n",
      "|label|            sentence|              tokens|               words|\n",
      "+-----+--------------------+--------------------+--------------------+\n",
      "|  NEU|attainments are; ...|[attainments, are...|[attainments, are...|\n",
      "|  NEU|fluffily ironic e...|[fluffily, ironic...|[fluffily, ironic...|\n",
      "|  NEU|dolphins about ov...|[dolphins, about,...|[dolphins, overst...|\n",
      "|  NEU|bullshit must sub...|[bullshit, must, ...|[bullshit, must, ...|\n",
      "|  NEG|silent decline or...|[silent, decline,...|[silent, decline,...|\n",
      "|  NEU|bold platelets ex...|[bold, platelets,...|[bold, platelets,...|\n",
      "|  NEU|special sustainab...|[special, sustain...|[special, sustain...|\n",
      "|  POS|quick winner afte...|[quick, winner, a...|[quick, winner, r...|\n",
      "|  NEU|frays doze whitho...|[frays, doze, whi...|[frays, doze, whi...|\n",
      "|  NEG|dolphins in place...|[dolphins, in, pl...|[dolphins, place,...|\n",
      "|  NEU|bravely permanent...|[bravely, permane...|[bravely, permane...|\n",
      "|  POS|ruthlessly risk-f...|[ruthlessly, risk...|[ruthlessly, risk...|\n",
      "|  NEU|best-performing d...|[best-performing,...|[best-performing,...|\n",
      "|  NEU|orbits need to in...|[orbits, need, to...|[orbits, need, in...|\n",
      "|  NEU|idle patience cou...|[idle, patience, ...|[idle, patience, ...|\n",
      "|  NEG|busy deny tithes ...|[busy, deny, tith...|[busy, deny, tith...|\n",
      "|  NEU|quick brave notor...|[quick, brave, no...|[quick, brave, no...|\n",
      "|  NEU|sheaves will have...|[sheaves, will, h...|[sheaves, grow., ...|\n",
      "|  NEG|daringly fluffy f...|[daringly, fluffy...|[daringly, fluffy...|\n",
      "|  NEU|carefully express...|[carefully, expre...|[carefully, expre...|\n",
      "+-----+--------------------+--------------------+--------------------+\n",
      "only showing top 20 rows\n",
      "\n"
     ]
    }
   ],
   "source": [
    "cleaned.show()"
   ]
  },
  {
   "cell_type": "code",
   "execution_count": 7,
   "metadata": {},
   "outputs": [],
   "source": [
    "cv = CountVectorizer(inputCol=\"words\", outputCol=\"features\")\n",
    "count_vectorizer_model = cv.fit(cleaned)\n",
    "result = count_vectorizer_model.transform(cleaned)"
   ]
  },
  {
   "cell_type": "code",
   "execution_count": 8,
   "metadata": {},
   "outputs": [
    {
     "name": "stdout",
     "output_type": "stream",
     "text": [
      "+-----+--------------------+--------------------+--------------------+--------------------+\n",
      "|label|            sentence|              tokens|               words|            features|\n",
      "+-----+--------------------+--------------------+--------------------+--------------------+\n",
      "|  NEU|attainments are; ...|[attainments, are...|[attainments, are...|(3338,[11,21,41,4...|\n",
      "|  NEU|fluffily ironic e...|[fluffily, ironic...|[fluffily, ironic...|(3338,[6,33,47,71...|\n",
      "|  NEU|dolphins about ov...|[dolphins, about,...|[dolphins, overst...|(3338,[0,11,23,24...|\n",
      "|  NEU|bullshit must sub...|[bullshit, must, ...|[bullshit, must, ...|(3338,[1,47,78,26...|\n",
      "|  NEG|silent decline or...|[silent, decline,...|[silent, decline,...|(3338,[0,2,3,20,4...|\n",
      "|  NEU|bold platelets ex...|[bold, platelets,...|[bold, platelets,...|(3338,[9,20,21,22...|\n",
      "|  NEU|special sustainab...|[special, sustain...|[special, sustain...|(3338,[6,11,14,18...|\n",
      "|  POS|quick winner afte...|[quick, winner, a...|[quick, winner, r...|(3338,[2,9,10,56,...|\n",
      "|  NEU|frays doze whitho...|[frays, doze, whi...|[frays, doze, whi...|(3338,[3,10,26,27...|\n",
      "|  NEG|dolphins in place...|[dolphins, in, pl...|[dolphins, place,...|(3338,[26,27,34,3...|\n",
      "|  NEU|bravely permanent...|[bravely, permane...|[bravely, permane...|(3338,[0,17,19,29...|\n",
      "|  POS|ruthlessly risk-f...|[ruthlessly, risk...|[ruthlessly, risk...|(3338,[1,56,76,10...|\n",
      "|  NEU|best-performing d...|[best-performing,...|[best-performing,...|(3338,[5,8,9,24,2...|\n",
      "|  NEU|orbits need to in...|[orbits, need, to...|[orbits, need, in...|(3338,[1,10,15,31...|\n",
      "|  NEU|idle patience cou...|[idle, patience, ...|[idle, patience, ...|(3338,[27,221,157...|\n",
      "|  NEG|busy deny tithes ...|[busy, deny, tith...|[busy, deny, tith...|(3338,[7,21,23,29...|\n",
      "|  NEU|quick brave notor...|[quick, brave, no...|[quick, brave, no...|(3338,[10,23,29,3...|\n",
      "|  NEU|sheaves will have...|[sheaves, will, h...|[sheaves, grow., ...|(3338,[1,7,14,30,...|\n",
      "|  NEG|daringly fluffy f...|[daringly, fluffy...|[daringly, fluffy...|(3338,[0,3,20,23,...|\n",
      "|  NEU|carefully express...|[carefully, expre...|[carefully, expre...|(3338,[7,15,16,20...|\n",
      "+-----+--------------------+--------------------+--------------------+--------------------+\n",
      "only showing top 20 rows\n",
      "\n"
     ]
    }
   ],
   "source": [
    "result.show()"
   ]
  },
  {
   "cell_type": "code",
   "execution_count": 9,
   "metadata": {},
   "outputs": [],
   "source": [
    "vocabulary = count_vectorizer_model.vocabulary"
   ]
  },
  {
   "cell_type": "code",
   "execution_count": 11,
   "metadata": {},
   "outputs": [
    {
     "name": "stdout",
     "output_type": "stream",
     "text": [
      "['shall', 'must', 'slow', 'silent', 'quiet', 'stealthy', 'ironic', 'busy', 'enticing', 'ruthless', 'quick', 'special', 'blithe', 'regular', 'sly', 'dogged', 'express', 'permanent', 'thin', 'furious', 'fluffy', 'close', 'careful', 'daring', 'bold', 'final', 'even', 'idle', 'pending', 'unusual', 'brave', 'need', 'might', 'may', 'try', 'pinto', 'hockey', 'furiously', 'busily', 'ironically', 'idly', 'quickly', 'blithely', 'carefully', 'never', 'permanently', 'stealthily', 'fluffily', 'thinly', 'bravely', 'evenly', 'slyly', 'boldly', 'doggedly', 'always', 'closely', 'ruthlessly', 'sometimes', 'regularly', 'enticingly', 'slowly', 'silently', 'finally', 'quietly', 'daringly', 'excuses', 'boost', 'maintain', 'detect', 'decoys', 'dazzle', 'hang', 'breach', 'sauternes', 'use', 'serve', 'ideas', 'mold', 'sublate', 'haggle', 'engage', 'wake', 'hinder', 'asymptotes', 'impress', 'dinos', 'platelets', 'print', 'nod', 'thrash', 'solve', 'frets', 'realms', 'poach', 'notornis', 'packages', 'deposits', 'unwind', 'gifts', 'eat', 'somas', 'grouches', 'snooze', 'sentiments', 'epitaphs', 'warthogs', 'waters', 'run', 'theodolites', 'alongside', 'tiresias', 'attainments', 'lose', 'promise', 'instructions', 'integrate', 'beans', 'patterns', 'instead', 'sheaves', 'accounts', 'cajole', 'according', 'affix', 'x-ray', 'courts', 'requests', 'dugouts', 'doze', 'dolphins', 'dependencies', 'warhorses', 'braids', 'sleep', 'pearls', 'nag', 'frays', 'believe', 'place', 'multipliers', 'foxes', 'kindle', 'tithes', 'players', 'orbits', 'depths', 'pains', 'grow', 'forges', 'escapades', 'play', 'doubt', 'around', 'besides', 'since', 'inside', 'except', 'toward', 'along', 'beside', 'past', 'near', 'upon', 'within', 'outside', 'beneath', 'across', 'despite', 'behind', 'among', 'throughout', 'atop', 'beyond', 'whithout', 'of?', 'of!', 'of.', 'of:', 'of;', 'of--', 'refund', 'to.', 'to;', 'to?', 'to!', 'to:', 'to--', 'ingenuity', 'wholeheartedly', 'distrust', 'remedy', 'amazingly', 'endorsement', 'crashed', 'absentee', 'deceitfully', 'miracle', 'culprit', 'abused', 'catastrophe', 'jerk', 'responsibly', 'abruptly', 'innovation', 'decency', 'assurance', 'destroy', 'sustainability', 'failure', 'regression', 'cure-all', 'accusation', 'object', 'break', 'insinuate', 'intrusion', 'scrambled', 'rant', 'flaws', 'decay', 'loses', 'patience', 'winner', 'drastically', 'retaliate', 'problems', 'commitment', 'loser', 'inadverently', 'gain', 'agonizing', 'bug', 'disaster', 'frustrated', 'overpaid', 'appropriate', 'harmony', 'issues', 'crush', 'imbalance', 'fulfillment', 'persevere', 'misses', 'dings', 'embolden', 'shambles', 'sensibly', 'protect', 'inspire', 'improves', 'masters', 'precisely', 'jeopardize', 'promptly', 'abound', 'exuberantly', 'ease', 'fruitlessly', 'trustworthiness', 'crooks', 'bullshit', 'apathetically', 'accusingly', 'whooa', 'obstruction', 'mystery', 'surpass', 'castigate', 'gimmick', 'abysmally', 'merrily', 'difficulties', 'accuse', 'dumps', 'drag', 'dispute', 'fairly', 'defect', 'astonishingly', 'undercut', 'pretentiously', 'appeal', 'aches', 'disclaim', 'misconception', 'inefficiency', 'coldly', 'kindliness', 'aborted', 'mangle', 'painlessly', 'brilliantly', 'luck', 'complaint', 'orderly', 'deteriorate', 'favored', 'humour', 'bargain', 'enviably', 'condescendingly', 'unfortunately', 'bastard', 'grossly', 'fondly', 'mishandle', 'deadweight', 'gratification', 'advantageously', 'liberate', 'peacefully', 'worry', 'afflict', 'delightfully', 'excelled', 'liked', 'moron', 'rightness', 'interests', 'excessively', 'eased', 'annoyed', 'dismay', 'entice', 'progress', 'nonsense', 'facilitate', 'contentment', 'sue', 'support', 'falsely', 'hoax', 'dishonorablely', 'expertly', 'elegantly', 'idealize', 'underestimate', 'mistakenly', 'tremendously', 'annihilate', 'blasted', 'speedily', 'overstate', 'irritate', 'appreciate', 'stimulates', 'revoke', 'blow', 'poorly', 'feat', 'astutely', 'admire', 'concede', 'inhibit', 'crack', 'criticize', 'bemoan', 'successfully', 'empower', 'junk', 'excitement', 'bull****', 'impede', 'oppose', 'proficiently', 'simplify', 'amputate', 'glitch', 'outperforms', 'gratify', 'deplore', 'harass', 'awarded', 'burden', 'near!', 'examplar', 'doubtfully', 'exceedingly', 'vibrate', 'hassle', 'worked', 'two-faced', 'celebrate', 'blockhead', 'since--', 'profusion', 'accurately', 'keenly', 'eases', 'contemptuously', 'allegations', 'pros', 'graciously', 'flagrant', 'uproar', 'incorrectly', 'fortunately', 'clique', 'stabilize', 'pretense', 'despicably', 'disorderly', 'bad', 'perfection', 'inflict', 'elate', 'vibrates', 'marginally', 'ruin', 'stress', 'improbably', 'temptingly', 'erratically', 'satisfy', 'during!', 'obnoxiously', 'along!', 'disapprove', 'delight', 'during;', 'emergency', 'deceiver', 'fear', 'condemn', 'despite!', 'honesty', 'lier', 'oasis', 'confuses', 'by;', 'abominably', 'disrupt', 'masterpiece', 'beyond:', 'excited', 'adamantly', 'among.', 'around:', 'homage', 'happily', 'recovery', 'beneath:', 'except--', 'within.', 'playfully', 'prejudice', 'unquestionably', 'attack', 'interrupt', 'monumentally', 'straighten', 'by?', 'beautify', 'upon!', 'clog', 'addicted', 'caustically', 'annoyingly', 'between:', 'corrode', 'outshone', 'within;', 'skeptic', 'stupidly', 'over:', 'across;', 'punish', 'likes', 'besides?', 'utterly', 'encourage', 'generously', 'except:', 'within?', 'above.', 'beneath.', 'near.', 'despite.', 'outside--', 'from--', 'fatally', 'on!', 'benefits', 'openly', 'under.', 'stigmatize', 'up?', 'around;', 'toward!', 'since.', 'above!', 'beyond.', 'near;', 'between!', 'up--', 'defeated', 'into!', 'joyously', 'up;', 'reasonably', 'gleefully', 'whithout:', 'throughout:', 'acclaim', 'before.', 'after--', 'beside.', 'about:', 'past--', 'beside:', 'atop;', 'during.', 'until--', 'atop.', 'within--', 'brutally', 'delay', 'illuminate', 'past;', 'upon.', 'besides:', 'despite--', 'toward:', 'through;', 'graciousness', 'from?', 'outside?', 'past.', 'insidiously', 'up.', 'among:', 'despite;', 'toward?', 'about?', 'above:', 'beneath--', 'behind--', 'since;', 'near:', 'under!', 'impressively', 'among!', 'sentiments--', 'about!', 'against:', 'sauternes--', 'until!', 'behind?', 'upon:', 'by--', 'within!', 'cleanly', 'on--', 'throughout.', 'throughout--', 'throughout!', 'across!', 'players.', 'attainments--', 'inside.', 'atop!', 'with!', 'after?', 'banish', 'from;', 'among?', 'inside?', 'for?', 'toward.', 'outside.', 'during:', 'behind.', 'about.', 'upon;', 'behind:', 'among--', 'along.', 'across.', 'beyond;', 'over?', 'except?', 'beside!', 'for:', 'up:', 'before;', 'simplifies', 'realms!', 'toward;', 'dugouts?', 'under;', 'with:', 'before--', 'by.', 'beneath;', 'into:', 'for!', 'before:', 'packages!', 'decoys;', 'against;', 'throughout?', 'into.', 'above;', 'on?', 'along;', 'for;', 'at!', 'beyond?', 'along--', 'against!', 'beneath?', 'outside:', 'toward--', 'with--', 'beside?', 'besides!', 'except.', 'decoys:', 'despite:', 'asymptotes.', 'for--', 'realms?', 'whithout?', 'between--', 'realms.', 'with;', 'until.', 'until:', 'whithout--', 'through--', 'patterns!', 'against?', 'pearls--', 'into?', 'frets;', 'deposits?', 'overzealously', 'sheaves;', 'besides--', 'over.', 'through?', 'outside!', 'through!', 'epitaphs--', 'accounts.', 'beside--', 'pains--', 'ideas:', 'tithes.', 'through:', 'decoys!', 'about--', 'waters--', 'braids?', 'with.', 'over--', 'atop--', 'behind;', 'beside;', 'besides;', 'across?', 'along?', 'past:', 'at--', 'on;', 'attainments!', 'escapades!', 'notornis.', 'deposits;', 'behind!', 'during?', 'over;', 'grouches.', 'dugouts:', 'dependencies?', 'along:', 'against.', 'up!', 'past!', 'since?', 'multipliers!', 'ideas?', 'decoys--', 'beyond--', 'instructions--', 'whithout.', 'after!', 'braids--', 'beneath!', 'about;', 'packages?', 'around.', 'under--', 'multipliers;', 'under?', 'around?', 'atop:', 'through.', 'platelets:', 'above--', 'for.', 'sauternes.', 'from.', 'pains:', 'dolphins;', 'dependencies.', 'theodolites;', 'atop?', 'depths--', 'braids;', 'after.', 'until;', 'despite?', 'packages:', 'against--', 'across--', 'with?', 'after:', 'at;', 'accounts!', 'instructions.', 'over!', 'asymptotes!', 'pains!', 'accounts:', 'decoys?', 'dinos--', 'ideas!', 'dinos;', 'into;', 'since:', 'besides.', 'warthogs?', 'tiresias!', 'before!', 'upon--', 'under:', 'tithes;', 'requests--', 'beyond!', 'whithout!', 'depths;', 'sheaves:', 'sauternes:', 'dependencies;', 'frays;', 'dugouts;', 'orbits.', 'waters:', 'waters!', 'until?', 'inside;', 'frays:', 'on:', 'braids:', 'at?', 'frets.', 'by:', 'theodolites!', 'gifts:', 'somas:', 'around--', 'dinos:', 'platelets?', 'forges:', 'ideas;', 'around!', 'courts!', 'excuses:', 'players--', 'between;', 'warhorses.', 'before?', 'excuses;', 'foxes?', 'deposits--', 'requests:', 'from!', 'sauternes!', 'at.', 'upon?', 'deposits:', 'beans!', 'theodolites.', 'outside;', 'escapades:', 'after;', 'dinos?', 'asymptotes?', 'inside!', 'from:', 'among;', 'orbits?', 'except!', 'deposits!', 'foxes:', 'orbits!', 'grouches?', 'orbits;', 'ideas.', 'pearls:', 'epitaphs?', 'epitaphs:', 'sauternes?', 'gifts--', 'throughout;', 'whithout;', 'players?', 'patterns:', 'platelets.', 'grouches--', 'instructions;', 'forges;', 'dependencies:', 'inside:', 'beans--', 'frets:', 'courts:', 'epitaphs;', 'platelets!', 'instructions!', 'waters.', 'theodolites?', 'excuses.', 'sentiments:', 'somas!', 'except;', 'near?', 'excuses--', 'into--', 'at:', 'since!', 'corrosion', 'above?', 'dolphins?', 'across:', 'epitaphs.', 'depths:', 'forges--', 'grouches:', 'realms;', 'requests!', 'excuses?', 'players;', 'gifts;', 'warhorses;', 'between?', 'inoperable', 'requests;', 'warthogs!', 'asymptotes;', 'fragile', 'waters?', 'sheaves!', 'on.', 'warthogs:', 'frets--', 'theodolites:', 'pearls?', 'accounts--', 'warhorses!', 'pearls!', 'sentiments;', 'orbits:', 'patterns;', 'warthogs.', 'frays.', 'patterns--', 'dolphins!', 'sheaves--', 'beans.', 'dinos!', 'notornis--', 'patterns.', 'requests?', 'somas;', 'forges?', 'attainments?', 'first-rate', 'dugouts--', 'notornis;', 'frays--', 'beans;', 'foxes;', 'waters;', 'packages--', 'dugouts!', 'dinos.', 'tithes!', 'escapades?', 'tiresias?', 'courts;', 'sheaves?', 'braids.', 'courts--', 'unwanted', 'believable', 'between.', 'beans:', 'damaged', 'escapades.', 'near--', 'decoys.', 'within:', 'notornis?', 'theodolites--', 'pearls;', 'forges.', 'warhorses:', 'pains;', 'patterns?', 'pains?', 'grouches;', 'somas.', 'attainments:', 'sentiments!', 'courts?', 'sauternes;', 'foxes--', 'epitaphs!', 'attainments;', 'dependencies!', 'past?', 'inside--', 'frets?', 'realms:', 'warthogs--', 'platelets--', 'players!', 'backward', 'accounts;', 'convincing', 'sentiments.', 'oppositions', 'dependencies--', 'somas--', 'dolphins:', 'dominate', 'volatile', 'escapades--', 'ideas--', 'realms--', 'notornis!', 'notornis:', 'dubious', 'abnormal', 'tithes:', 'foxes!', 'dugouts.', 'somas?', 'warhorses?', 'tiresias.', 'packages.', 'depths?', 'cost-effective', 'by!', 'pains.', 'satisfactory', 'multipliers--', 'gifts!', 'rough', 'excellent', 'valuable', 'multipliers.', 'crooked', 'depths!', 'famous', 'dolphins--', 'tiresias:', 'inept', 'judicious', 'catastrophic', 'inferior', 'buoyant', 'worthwhile', 'deposits.', 'frays?', 'braids!', 'negligent', 'tough', 'players:', 'attainments.', 'grouches!', 'platelets;', 'dolphins.', 'excuses!', 'dead-on', 'accessible', 'tiresias--', 'misaligned', 'keen', 'sentiments?', 'instructions?', 'beans?', 'multipliers:', 'awesome', 'mortified', 'amazing', 'dissatisfied', 'unbelievable', 'ideal', 'requests.', 'tithes?', 'hard', 'easy-to-use', 'packages;', 'sharp', 'gooood', 'painfull', 'cloudy', 'high-quality', 'fuzzy', 'petty', 'great', 'exceptional', 'asymptotes:', 'warhorses--', 'fast', 'everlasting', 'tiresias;', 'foolproof', 'sheaves.', 'asymptotes--', 'instructions:', 'frays!', 'nice', 'adequate', 'jaw-dropping', 'accounts?', 'enough', 'obscure', 'during--', 'counterproductive', 'monstrosity', 'well-made', 'warthogs;', 'obtuse', 'multipliers?', 'sluggish', 'stylish', 'unfavorable', 'secure', 'escapades;', 'diligent', 'orbits--', 'gifts.', 'antagonistic', 'enlighten', 'disquieting', 'alarming', 'incredible', 'depths.', 'concern', 'risk-free', 'pearls.', 'poor', 'long-lasting', 'awful', 'incessantly', 'deny', 'comfortable', 'finer', 'irrecoverable', 'bust', 'gifts?', 'agile', 'onerous', 'overheat', 'disappointing', 'disingenuous', 'angry', 'horrifying', 'outmoded', 'cheapest', 'immaculate', 'hampered', 'seedy', 'absurdity', 'litigious', 'ergonomical', 'costly', 'pervasive', 'bizarre', 'state-of-the-art', 'eyecatching', 'mind-blowing', 'abusive', 'consistent', 'unusable', 'worse', 'futuristic', 'belittled', 'biased', 'detachable', 'dilapidated', 'brand-new', 'innocuous', 'impeccable', 'slick', 'archaic', 'issue-free', 'appreciated', 'qualified', 'bent', 'fake', 'conspicuous', 'courts.', 'embarrassing', 'gawky', 'enchanted', 'tithes--', 'disapointing', 'over-priced', 'foxes.', 'accidental', 'low-risk', 'frets!', 'complex', 'useless', 'discouraging', 'smooth', 'superb', 'distinctive', 'helpful', 'redeem', 'forges!', 'ignominiously', 'pretty', 'satisified', 'crisp', 'gifted', 'disabled', 'unlimited', 'low-price', 'low-rated', 'dependable', 'over-hyped', 'nonresponsive', 'imaginative', 'first-class', 'frustrating', 'illogical', 'pointless', 'unpredictable', 'fraudulent', 'cool', 'loose', 'large-capacity', 'provocative', 'lacked', 'critical', 'hopeful', 'malicious', 'robust', 'outperform', 'economical', 'aimless', 'usable', 'decline', 'well-balanced', 'incorrect', 'absurd', 'upsetting', 'oversimplified', 'top-notch', 'inflated', 'convenient', 'dejected', 'sensational', 'respectable', 'sturdy', 'feature-rich', 'hazard', 'amenable', 'suitable', 'kindly', 'conflict', 'attractive', 'burning', 'intermittent', 'safe', 'durable', 'optimal', 'catchy', 'irreproachable', 'recover', 'insufficient', 'problem-free', 'bogus', 'unexpected', 'adaptable', 'thrilling', 'quandary', 'messy', 'incoherent', 'adversarial', 'grand', 'constructive', 'misuse', 'demoralizing', 'thinner', 'good', 'simplified', 'fabulous', 'false', 'abominable', 'positive', 'unwatchable', 'well-known', 'bleak', 'hands-down', 'diappointed', 'interfere', 'inventive', 'exasperating', 'bright', 'adverse', 'correct', 'abysmal', 'erroneous', 'colorful', 'dented', 'faultless', 'courteous', 'careless', 'irrelevant', 'unlikely', 'prudent', 'coolest', 'aggravation', 'crappy', 'enthusiastic', 'fashionable', 'noiseless', 'dynamic', 'goofy', 'likable', 'efficient', 'matchless', 'reasonable', 'smarter', 'worthless', 'recommended', 'priceless', 'daunting', 'jittery', 'beautiful', 'ill-fated', 'compatible', 'competitive', 'unpleasant', 'fresh', 'unhelpful', 'clearer', 'offensive', 'fine-looking', 'stellar', 'productive', 'idiotic', 'inadequate', 'forged', 'improvement', 'impressive', 'drawback', 'undue', 'friendly', 'outstanding', 'dispensable', 'flaky', 'lesser-known', 'rapid', 'ineffective', 'uncreative', 'affordable', 'sloow', 'murky', 'contentious', 'bugs', 'snazzy', 'nasty', 'weak', 'chaotic', 'reputable', 'undamaged', 'low-cost', 'wonderful', 'unquestionable', 'deficient', 'unwarranted', 'err-free', 'best-performing', 'broken', 'polarisation', 'noteworthy', 'thinly!', 'undesirable', 'flawless', 'meaningful', 'decadent', 'acrimonious', 'helpless', 'ruthlessly!', 'enticingly.', 'user-friendly', 'imperiously', 'regularly?', 'always?', 'ironically?', 'ironically!', 'boost.', 'evenly:', 'ruthlessly.', 'slyly--', 'blithely:', 'daringly?', 'stealthily;', 'finally?', 'doggedly!', 'evenly.', 'boost:', 'quietly;', 'furiously;', 'carefully.', 'bravely?', 'carefully;', 'sometimes:', 'slowly--', 'idly--', 'never.', 'closely;', 'doggedly:', 'boldly--', 'busily!', 'quietly.', 'quietly--', 'sometimes!', 'evenly!', 'busily;', 'stealthily--', 'fluffily?', 'boldly?', 'fluffily:', 'daringly;', 'carefully--', 'poach--', 'silently!', 'farcical-yet-provocative', 'ironically.', 'fluffily--', 'daringly--', 'sometimes.', 'quickly!', 'regularly!', 'silently;', 'idly!', 'x-ray;', 'evenly--', 'furiously?', 'idly:', 'stealthily!', 'silently--', 'closely!', 'slyly?', 'regularly:', 'finally:', 'closely--', 'ironically:', 'bravely--', 'slyly:', 'fluffily.', 'furiously:', 'carefully!', 'quietly!', 'enticingly--', 'daringly!', 'stealthily.', 'bravely!', 'boost?', 'bravely;', 'cajole?', 'boldly.', 'doggedly;', 'silently.', 'carefully:', 'regularly.', 'ruthlessly:', 'quickly.', 'furiously!', 'finally!', 'thinly--', 'hinder--', 'stealthily:', 'ruthlessly--', 'blithely?', 'thinly.', 'always.', 'slyly;', 'finally.', 'stealthily?', 'enticingly:', 'permanently?', 'quietly?', 'blithely;', 'never?', 'evenly?', 'busily--', 'silently:', 'closely?', 'always--', 'permanently;', 'quickly;', 'carefully?', 'slowly.', 'sometimes--', 'cajole!', 'slyly!', 'slowly?', 'grow!', 'daringly:', 'regularly;', 'furiously.', 'slowly;', 'doggedly--', 'quickly--', 'sometimes;', 'print--', 'doggedly.', 'permanently:', 'finally--', 'doggedly?', 'enticingly!', 'idly.', 'never!', 'serve:', 'promise.', 'use?', 'ironically--', 'x-ray.', 'are;', 'blithely--', 'nag.', 'enticingly;', 'boldly:', 'haggle.', 'are:', 'affix?', 'never:', 'never--', 'grow:', 'blithely.', 'busily:', 'wake!', 'was;', 'hang:', 'boldly!', 'regularly--', 'slowly:', 'nod.', 'always;', 'thinly;', 'finally;', 'detect?', 'believe--', 'daringly.', 'snooze!', 'thrash!', 'thrash?', 'permanently.', 'unwind!', 'closely:', 'thinly:', 'sublate:', 'ruthlessly;', 'boost;', 'permanently--', 'impress:', 'play:', 'lose?', 'wake?', 'fluffily!', 'mold!', 'lose;', 'evenly;', 'always!', 'cajole;', 'slyly.', 'snooze;', 'run:', 'never;', 'play--', 'wake.', 'doubt--', 'integrate;', 'snooze.', 'maintain!', 'promise?', 'nod!', 'fluffily;', 'engage--', 'hinder?', 'wake:', 'sleep--', 'play!', 'boost!', 'quickly:', 'boost--', 'affix:', 'wake;', 'haggle!', 'breach!', 'silently?', 'quietly:', 'permanently!', 'blithely!', 'hinder!', 'solve?', 'serve--', 'print?', 'ironically;', 'doubt!', 'grow;', 'play?', 'kindle;', 'closely.', 'bravely:', 'affix;', 'nod?', 'idly;', 'nag!', 'eat--', 'maintain--', 'always:', 'solve.', 'promise:', 'doze:', 'impress!', 'was?', 'detect!', 'sleep!', 'impress--', 'hinder:', 'poach:', 'integrate:', 'doubt.', 'sometimes?', 'breach--', 'ruthlessly?', 'believe.', 'use;', 'play.', 'quickly?', 'snooze--', 'doubt;', 'engage!', 'eat!', 'haggle--', 'maintain?', 'busily?', 'was!', 'boldly;', 'cajole--', 'kindle!', 'x-ray:', 'detect;', 'hang.', 'breach:', 'impress;', 'hang--', 'engage:', 'slowly!', 'furiously--', 'bravely.', 'thinly?', 'poach?', 'engage.', 'cajole:', 'thrash:', 'hinder;', 'snooze?', 'enticingly?', 'serve?', 'lose!', 'unwind--', 'run!', 'mold--', 'unwind?', 'sublate;', 'busily.', 'haggle?', 'kindle.', 'mold?', 'believe?', 'haggle:', 'integrate?', 'maintain;', 'grow?', 'sleep;', 'eat.', 'hang;', 'cajole.', 'kindle:', 'believe;', 'grow--', 'hang!', 'engage;', 'affix.', 'hang?', 'run?', 'was.', 'nod:', 'unwind:', 'idly?', 'serve;', 'integrate!', 'are!', 'haggle;', 'eat:', 'affix!', 'lose--', 'play;', 'x-ray?', 'thrash.', 'sublate?', 'detect--', 'dazzle--', 'lose:', 'doubt?', 'solve:', 'unwind;', 'mold.', 'breach;', 'run.', 'eat?', 'dazzle!', 'impress.', 'misconception?', 'kindle?', 'sleep?', 'serve.', 'eat;', 'breach?', 'are?', 'dazzle?', 'doubt:', 'doze;', 'snooze:', 'was:', 'impress?', 'grow.', 'dazzle:', 'promise!', 'detect.', 'wake--', 'are.', 'nag:', 'doze.', 'maintain.', 'are--', 'use.', 'believe:', 'solve;', 'x-ray!', 'nag--', 'maintain:', 'hinder.', 'dazzle;', 'sublate!', 'affix--', 'nod;', 'use!', 'doze?', 'dazzle.', 'thrash;', 'kindle--', 'sublate--', 'serve!', 'promise--', 'x-ray--', 'unwind.', 'difficulties--', 'poach;', 'solve--', 'integrate.', 'refund--', 'decay!', 'lose.', 'mold:', 'uproar--', 'run--', 'thrash--', 'sublate.', 'use:', 'detect:', 'bullshit:', 'solve!', 'print!', 'engage?', 'homage!', 'nag;', 'was--', 'sleep:', 'print;', 'uproar.', 'appropriate?', 'obstruction.', 'run;', 'doze!', 'nag?', 'poach.', 'print.', 'print:', 'mystery--', 'endorsement.', 'remedy.', 'absentee:', 'cure-all!', 'harmony:', 'masters.', 'junk.', 'breach.', 'whooa:', 'ease.', 'disclaim.', 'aches:', 'poach!', 'appropriate!', 'aches.', 'promise;', 'problems.', 'sleep.', 'winner!', 'jerk!', 'delay!', 'delay;', 'use--', 'skeptic:', 'hassle.', 'obstruction--', 'believe!', 'integrate--', 'appropriate.', 'bargain;', 'nod--', 'sustainability.', 'defect?', 'skeptic;', 'misses!', 'pretense;', 'progress;', 'misconception--', 'intrusion:', 'dumps?', 'masterpiece;', 'fulfillment;', 'rightness!', 'ease--', 'disclaim;', 'graciousness--', 'appeal.', 'patience?', 'remedy!', 'aches!', 'bug.', 'catastrophe?', 'appropriate--', 'stress:', 'kindliness.', 'mold;', 'commitment?', 'complaint?', 'doze--', 'bullshit--', 'decency--', 'inefficiency.', 'emergency.', 'shambles?', 'problems!', 'nonsense:', 'aches;', 'whooa!', 'crooks?', 'misses;', 'inefficiency;', 'whooa--', 'perfection?', 'crack--', 'problems?', 'deceiver.', 'interests;', 'innovation.', 'cure-all?', 'emergency--', 'patience;', 'dispute?', 'inefficiency:', 'support--', 'culprit--', 'blockhead;', 'cure-all;', 'remedy:', 'crack.', 'stress;', 'shambles!', 'refund;', 'lier--', 'assurance;', 'catastrophe--', 'miracle.', 'endorsement:', 'pros:', 'patience.', 'progress!', 'luck:', 'harmony.', 'difficulties;', 'commitment;', 'progress:', 'failure;', 'contentment:', 'recovery?', 'object?', 'ease;', 'problems;', 'whooa.', 'deadweight;', 'hoax!', 'issues:', 'dispute.', 'interests--', 'disclaim?', 'gain?', 'disaster;', 'issues--', 'excitement:', 'catastrophe.', 'gratification:', 'feat?', 'refund.', 'obstruction:', 'clique;', 'failure:', 'masterpiece--', 'innovation;', 'luck.', 'allegations;', 'oasis;', 'oasis!', 'hassle:', 'sustainability--', 'progress--', 'mystery;', 'disaster?', 'misconception:', 'dispute;', 'delight.', 'obstruction;', 'perfection;', 'decay;', 'mystery!', 'oppose?', 'dismay:', 'issues;', 'misses.', 'bull****!', 'rightness.', 'deadweight?', 'commitment.', 'absentee--', 'deceiver--', 'bastard!', 'masters--', 'skeptic?', 'contentment;', 'bull****;', 'delight;', 'bug--', 'recovery:', 'pros;', 'innovation--', 'lier?', 'difficulties.', 'harmony!', 'innovation?', 'gratification.', 'loser?', 'prejudice?', 'misses?', 'examplar!', 'bargain:', 'regression.', 'blockhead.', 'dumps--', 'jerk.', 'feat;', 'hoax?', 'stress--', 'pros!', 'appropriate:', 'crooks;', 'catastrophe!', 'hassle?', 'nonsense.', 'oasis--', 'progress?', 'delight?', 'winner;', 'dumps!', 'clique?', 'bug:', 'gimmick?', 'jerk:', 'crack?', 'intrusion?', 'imbalance:', 'loser--', 'feat!', 'inefficiency!', 'lier:', 'homage?', 'bug;', 'emergency?', 'commitment:', 'pros?', 'dispute!', 'glitch;', 'aches--', 'uproar!', 'imbalance?', 'cure-all:', 'humour:', 'support:', 'moron;', 'refund!', 'nonsense;', 'luck!', 'misses--', 'decency?', 'crack!', 'gratification!', 'deceiver!', 'complaint;', 'inefficiency?', 'prejudice.', 'flaws:', 'miracle;', 'clique.', 'rightness:', 'loser.', 'patience:', 'bastard:', 'bull****:', 'catastrophe:', 'gimmick;', 'refund:', 'culprit!', 'mystery:', 'accusation;', 'disclaim:', 'imbalance!', 'graciousness:', 'oppose.', 'contentment!', 'excitement!', 'emergency:', 'accusation!', 'flaws;', 'emergency!', 'sustainability:', 'cure-all.', 'annoyingly;', 'crooks!', 'issues!', 'loser:', 'honesty.', 'intrusion.', 'jerk--', 'pretense?', 'failure--', 'bargain--', 'ease?', 'endorsement!', 'marginally.', 'profusion:', 'delay?', 'deceiver?', 'prejudice--', 'dismay?', 'moron?', 'loser!', 'shambles:', 'moron.', 'misconception.', 'endorsement--', 'intrusion;', 'openly!', 'masterpiece?', 'culprit?', 'whooa?', 'prejudice!', 'complaint:', 'mystery.', 'absentee?', 'object;', 'bastard.', 'misconception;', 'oasis.', 'gain--', 'delay--', 'oppose:', 'intrusion--', 'humour!', 'defect;', 'innovation!', 'defect--', 'interests!', 'gratification--', 'innovation:', 'stress?', 'bull****?', 'disclaim!', 'bastard?', 'flaws--', 'examplar;', 'fulfillment!', 'kindliness--', 'obstruction?', 'profusion--', 'hoax:', 'imbalance;', 'homage:', 'bargain?', 'disaster--', 'nonsense!', 'dismay--', 'rightness--', 'support;', 'recovery!', 'dismay!', 'failure?', 'ingenuity.', 'harmony--', 'shambles--', 'dismay.', 'assurance--', 'masters;', 'masterpiece!', 'excitement?', 'fulfillment.', 'glitch:', 'winner:', 'excitement;', 'bastard;', 'progress.', 'blockhead!', 'masters:', 'masters!', 'ingenuity!', 'delay:', 'ease!', 'patience--', 'inefficiency--', 'dings;', 'fulfillment:', 'junk?', 'feat.', 'appeal--', 'bargain.', 'appropriate;', 'winner--', 'disaster.', 'blockhead:', 'support?', 'profusion?', 'endorsement;', 'glitch!', 'nonsense?', 'emergency;', 'condemn:', 'trustworthiness?', 'support.', 'deceiver:', 'sustainability?', 'bastard--', 'luck;', 'gimmick!', 'complaint--', 'cure-all--', 'nonsense--', 'imbalance--', 'dings?', 'difficulties!', 'flaws.', 'recovery;', 'rightness;', 'blockhead?', 'appeal?', 'dispute:', 'allegations?', 'trustworthiness!', 'gimmick.', 'junk:', 'hoax;', 'junk!', 'commitment!', 'honesty!', 'delight!', 'assurance:', 'gain!', 'concede!', 'decay:', 'feat--', 'lier;', 'astonishingly?', 'trustworthiness;', 'junk--', 'sustainability!', 'jerk;', 'homage.', 'deadweight--', 'profusion!', 'fulfillment--', 'dumps.', 'skeptic--', 'deceitfully?', 'deadweight:', 'examplar.', 'blockhead--', 'deceiver;', 'mystery?', 'gain.', 'clique--', 'refund?', 'gratification?', 'excitement.', 'sustainability;', 'culprit.', 'facilitate--', 'bad?', 'difficulties?', 'lier!', 'deadweight!', 'obstruction!', 'homage--', 'oppose--', 'decency.', 'bullshit?', 'shambles.', 'empower:', 'decay.', 'appeal:', 'examplar--', 'hassle!', 'whooa;', 'ingenuity;', 'dumps:', 'humour.', 'dings:', 'culprit;', 'dings.', 'orderly.', 'annoyingly.', 'junk;', 'graciousness;', 'assurance?', 'luck--', 'glitch.', 'dings!', 'ease:', 'regression:', 'bug!', 'apathetically:', 'peacefully!', 'exceedingly:', 'defect!', 'flaws!', 'persevere:', 'crack;', 'crooks:', 'humour?', 'bullshit.', 'decay--', 'problems:', 'burden:', 'tremendously!', 'oasis?', 'feat:', 'problems--', 'bull****--', 'hassle;', 'remedy--', 'accusation--', 'oppose;', 'masterpiece:', 'fulfillment?', 'culprit:', 'prejudice:', 'aborted.', 'shambles;', 'appeal!', 'embolden--', 'honesty?', 'interests.', 'graciousness?', 'dismay;', 'homage;', 'condescendingly!', 'accusation.', 'deadweight.', 'assurance!', 'crooks.', 'gimmick--', 'miracle!', 'dishonorablely.', 'pretense!', 'allegations!', 'gain;', 'aches?', 'uproar;', 'accusation?', 'remedy;', 'glitch?', 'kindliness:', 'profusion.', 'skeptic!', 'keenly?', 'miracle:', 'skeptic.', 'pros--', 'masterpiece.', 'issues.', 'bug?', 'fatally--', 'bull****.', 'dings--', 'reasonably!', 'luck?', 'poorly--', 'condemn!', 'moron--', 'absentee;', 'glitch--', 'stress.', 'commitment--', 'excited.', 'complaint.', 'unfortunately:', 'miracle--', 'benefits;', 'honesty;', 'object:', 'assurance.', 'graciousness.', 'excitement--', 'regression!', 'agonizing;', 'contentment--', 'trustworthiness--', 'amazingly;', 'dispute--', 'stress!', 'pretense--', 'jeopardize.', 'successfully?', 'tremendously--', 'sue--', 'overzealously!', 'pretense.', 'honesty--', 'humour;', 'graciousness!', 'kindliness!', 'hoax--', 'absentee.', 'adamantly?', 'impressively;', 'delight--', 'bullshit;', 'miracle?', 'object!', 'scrambled.', 'allegations.', 'tremendously.', 'hoax.', 'recovery--', 'monumentally?', 'perfection:', 'undercut:', 'orderly;', 'punish:', 'obnoxiously;', 'difficulties:', 'ingenuity?', 'hassle--', 'speedily?', 'outperforms?', 'contentment?', 'expertly!', 'harmony?', 'decay?', 'failure.', 'moron:', 'trustworthiness.', 'fruitlessly.', 'deteriorate;', 'excelled;', 'disorderly--', 'complaint!', 'abysmally!', 'allegations:', 'object--', 'simplifies:', 'examplar:', 'bad--', 'orderly!', 'interrupt.', 'erratically?', 'insinuate!', 'patience!', 'harmony;', 'generously:', 'contemptuously:', 'speedily.', 'graciously:', 'pros.', 'astutely--', 'lier.', 'ingenuity--', 'burden;', 'liberate?', 'clique!', 'jerk?', 'delight:', 'stupidly!', 'appeal;', 'bad!', 'aborted!', 'bemoan.', 'irritate!', 'agonizing.', 'crooks--', 'crack:', 'interests?', 'regression?', 'winner?', 'loser;', 'honesty:', 'favored.', 'falsely:', 'incorrectly.', 'dishonorablely!', 'stabilize:', 'disrupt--', 'improbably:', 'coldly:', 'painlessly?', 'gimmick:', 'exuberantly;', 'improves.', 'happily.', 'overzealously.', 'likes--', 'fortunately--', 'outshone.', 'clog?', 'accuse--', 'kindliness?', 'prejudice;', 'trustworthiness:', 'disaster!', 'happily!', 'afflict.', 'masters?', 'brilliantly?', 'blow:', 'unfortunately.', 'decency:', 'overpaid.', 'stigmatize!', 'painlessly!', 'uproar:', 'likes;', 'vibrates;', 'agonizing?', 'enviably;', 'coldly--', 'improbably?', 'bullshit!', 'loses?', 'awarded:', 'advantageously.', 'wholeheartedly?', 'overpaid;', 'loses!', 'gain:', 'kindliness;', 'ingenuity:', 'accusingly!', 'abominably--', 'peacefully;', 'defect.', 'playfully.', 'falsely--', 'gratification;', 'remedy?', 'drag;', 'imbalance.', 'liberate!', 'eased?', 'pretense:', 'bargain!', 'failure!', 'intrusion!', 'punish.', 'perfection--', 'moron!', 'misconception!', 'liked.', 'insidiously;', 'tremendously;', 'apathetically--', 'crashed.', 'joyously?', 'abysmally;', 'loses.', 'persevere.', 'interrupt!', 'rant;', 'excessively:', 'examplar?', 'fruitlessly?', 'object.', 'interests:', 'amazingly!', 'overstate!', 'orderly?', 'falsely;', 'flaws?', 'celebrate!', 'astonishingly!', 'surpass--', 'accuse;', 'decency!', 'coldly.', 'unquestionably?', 'abound.', 'issues?', 'empower!', 'interrupt;', 'abruptly.', 'uproar?', 'misses:', 'rightness?', 'successfully!', 'generously!', 'delightfully--', 'mistakenly.', 'accurately;', 'keenly.', 'regression--', 'harass:', 'empower--', 'utterly.', 'obnoxiously!', 'delay.', 'abound;', 'disrupt!', 'unquestionably;', 'contemptuously!', 'precisely!', 'rant.', 'overzealously;', 'celebrate.', 'jeopardize!', 'inspire.', 'eases;', 'contentment.', 'excessively--', 'interrupt--', 'mangle:', 'clique:', 'stimulates;', 'defect:', 'grossly?', 'retaliate--', 'burden!', 'gratify;', 'generously?', 'promptly:', 'fondly--', 'simplify!', 'cleanly--', 'brutally?', 'castigate:', 'obnoxiously--', 'painlessly--', 'abruptly!', 'irritate?', 'impressively?', 'distrust.', 'caustically!', 'painlessly.', 'excessively?', 'accurately!', 'favored;', 'overpaid?', 'successfully;', 'fortunately?', 'criticize!', 'deceitfully;', 'wholeheartedly.', 'tremendously?', 'accusation:', 'mangle!', 'favored:', 'graciously?', 'fondly.', 'catastrophe;', 'aborted;', 'erratically;', 'defeated:', 'caustically--', 'stigmatize;', 'temptingly.', 'gleefully.', 'abominably:', 'sensibly--', 'underestimate--', 'erratically!', 'entice.', 'scrambled--', 'falsely!', 'brutally:', 'decency;', 'amputate;', 'accusingly.', 'gleefully--', 'openly:', 'erratically.', 'oppose!', 'annoyed:', 'sue.', 'acclaim?', 'crush:', 'proficiently!', 'loses--', 'adamantly;', 'abominably?', 'perfection!', 'merrily:', 'stupidly--', 'admire;', 'dumps;', 'embolden;', 'abruptly;', 'mangle?', 'apathetically;', 'joyously;', 'irritate--', 'fondly;', 'joyously.', 'cleanly.', 'blasted--', 'encourage!', 'elate--', 'unfortunately?', 'coldly!', 'incorrectly:', 'inhibit:', 'retaliate?', 'persevere!', 'embolden!', 'cleanly:', 'excited!', 'overzealously:', 'improves!', 'drastically.', 'harass!', 'worry!', 'crashed:', 'joyously:', 'burden--', 'mangle--', 'fairly?', 'protect.', 'advantageously?', 'inhibit!', 'revoke.', 'coldly?', 'temptingly?', 'delightfully:', 'excelled.', 'keenly!', 'worry--', 'fatally!', 'merrily--', 'contemptuously?', 'impressively.', 'abysmally--', 'abound:', 'excessively.', 'recovery.', 'facilitate.', 'peacefully.', 'merrily?', 'cleanly!', 'agonizing!', 'abruptly--', 'happily;', 'harass;', 'disapprove!', 'regression;', 'elate;', 'eases--', 'stimulates--', 'enviably!', 'abused?', 'monumentally:', 'persevere;', 'elate:', 'crush--', 'addicted;', 'benefits!', 'flagrant;', 'accurately?', 'eased!', 'winner.', 'insidiously?', 'deceitfully.', 'drastically!', 'loses:', 'clog.', 'proficiently?', 'corrode.', 'drag?', 'defeated;', 'keenly;', 'playfully--', 'openly.', 'accusingly?', 'openly?', 'sue;', 'exceedingly--', 'liked?', 'undercut.', 'pretentiously?', 'obnoxiously.', 'agonizing:', 'eased:', 'openly;', 'eased--', 'condemn;', 'eases?', 'fear.', 'undercut--', 'defeated--', 'poorly?', 'simplifies--', 'abominably.', 'liberate:', 'idealize;', 'inhibit;', 'corrode:', 'simplifies?', 'liberate--', 'straighten:', 'beautify;', 'condescendingly--', 'unquestionably!', 'fortunately;', 'condescendingly;', 'perfection.', 'overzealously?', 'astutely:', 'brutally!', 'castigate--', 'pretentiously.', 'addicted!', 'drastically--', 'flagrant!', 'unquestionably--', 'accurately:', 'mistakenly:', 'improbably.', 'concede;', 'amputate!', 'abused.', 'improbably!', 'idealize.', 'mistakenly;', 'tremendously:', 'surpass!', 'amazingly--', 'advantageously--', 'contemptuously--', 'sue:', 'harass?', 'responsibly:', 'improves:', 'blow;', 'drag!', 'fondly?', 'rant?', 'addicted.', 'annoyingly!', 'excessively;', 'disorderly;', 'underestimate!', 'contemptuously.', 'peacefully:', 'embolden:', 'doubtfully--', 'inadverently!', 'keenly--', 'falsely?', 'gratify?', 'crashed!', 'impede--', 'harass--', 'caustically:', 'attack!', 'bemoan:', 'outshone!', 'marginally--', 'satisfy:', 'annoyed;', 'agonizing--', 'favored--', 'excelled!', 'adamantly.', 'stabilize.', 'responsibly!', 'idealize?', 'crush;', 'fairly--', 'exceedingly!', 'humour--', 'stimulates:', 'crush!', 'annoyed.', 'dishonorablely:', 'worked:', 'dishonorablely--', 'pretentiously--', 'orderly:', 'annihilate;', 'distrust--', 'dishonorablely?', 'gratify.', 'overstate--', 'clog!', 'accurately.', 'grossly;', 'frustrated.', 'appreciate--', 'disclaim--', 'deplore.', 'confuses.', 'impressively!', 'responsibly.', 'excited:', 'simplify--', 'accuse.', 'oasis:', 'stigmatize.', 'utterly!', 'afflict:', 'stabilize--', 'overpaid!', 'banish;', 'enviably--', 'joyously--', 'drastically:', 'gleefully:', 'generously.', 'advantageously!', 'annoyingly--', 'grossly--', 'attack.', 'distrust!', 'mishandle.', 'revoke:', 'exceedingly;', 'gleefully?', 'utterly?', 'illuminate;', 'playfully?', 'concede.', 'insinuate:', 'likes.', 'simplify;', 'peacefully--', 'precisely;', 'astutely.', 'support!', 'despicably!', 'erratically--', 'accusingly--', 'monumentally!', 'eases.', 'banish:', 'elegantly.', 'empower;', 'improves--', 'delightfully.', 'temptingly;', 'temptingly--', 'overpaid--', 'promptly!', 'absentee!', 'sue!', 'confuses!', 'cleanly?', 'concede?', 'ruin--', 'destroy!', 'gratify--', 'graciously--', 'gleefully!', 'elate!', 'painlessly;', 'afflict;', 'utterly;', 'accusingly;', 'incorrectly;', 'rant:', 'apathetically?', 'poorly.', 'astonishingly--', 'fatally.', 'deceitfully:', 'encourage:', 'apathetically.', 'impressively--', 'bemoan--', 'abound!', 'blow--', 'overpaid:', 'straighten--', 'precisely--', 'criticize;', 'worked!', 'blasted!', 'interrupt?', 'delightfully;', 'sensibly!', 'celebrate;', 'stupidly:', 'doubtfully;', 'reasonably;', 'irritate:', 'stimulates?', 'acclaim:', 'satisfy?', 'graciously.', 'poorly;', 'accuse?', 'unquestionably.', 'deplore:', 'blasted:', 'surpass?', 'castigate.', 'precisely:', 'flagrant--', 'elate.', 'punish!', 'abominably!', 'fairly:', 'criticize.', 'entice!', 'poorly:', 'fatally?', 'inhibit.', 'worked?', 'falsely.', 'annoyingly:', 'beautify--', 'delightfully?', 'deteriorate!', 'erratically:', 'playfully;', 'encourage;', 'criticize:', 'simplify?', 'interrupt:', 'destroy--', 'mistakenly!', 'aborted--', 'utterly--', 'admire?', 'break:', 'awarded.', 'responsibly?', 'fairly.', 'amazingly?', 'scrambled!', 'fear?', 'impressively:', 'gleefully;', 'successfully--', 'retaliate;', 'corrode?', 'drag:', 'corrode;', 'stabilize?', 'abound?', 'condemn--', 'graciously;', 'persevere?', 'astonishingly;', 'disrupt.', 'destroy.', 'inspire!', 'pretentiously!', 'protect!', 'acclaim--', 'drag.', 'bad;', 'improbably--', 'promptly?', 'astutely?', 'unfortunately--', 'disapprove:', 'ruin?', 'caustically.', 'amputate:', 'insidiously--', 'elegantly!', 'successfully:', 'idealize--', 'insidiously:', 'temptingly:', 'advantageously;', 'encourage--', 'crush?', 'punish?', 'happily:', 'stimulates.', 'loses;', 'break?', 'bemoan!', 'castigate?', 'insinuate.', 'happily?', 'condescendingly:', 'inspire?', 'grossly!', 'brutally.', 'banish!', 'worked--', 'inadverently--', 'abysmally.', 'crashed--', 'impede:', 'amazingly.', 'exuberantly:', 'accurately--', 'liberate;', 'pretentiously:', 'abused:', 'amazingly:', 'clog:', 'illuminate:', 'crashed?', 'empower.', 'beautify.', 'inspire--', 'coldly;', 'expertly:', 'straighten.', 'illuminate.', 'fatally;', 'addicted:', 'generously--', 'castigate!', 'marginally:', 'frustrated:', 'break;', 'admire.', 'cleanly;', 'addicted--', 'inadverently.', 'jeopardize--', 'crush.', 'marginally!', 'amputate.', 'mangle.', 'encourage.', 'frustrated?', 'monumentally;', 'astonishingly.', 'flagrant.', 'simplify.', 'distrust:', 'banish.', 'sensibly?', 'insinuate?', 'undercut?', 'vibrate?', 'inflict:', 'worked.', 'utterly:', 'speedily!', 'outshone--', 'proficiently;', 'rant!', 'allegations--', 'proficiently--', 'outperforms;', 'fortunately:', 'overstate;', 'appreciate.', 'celebrate--', 'favored?', 'inhibit?', 'wholeheartedly!', 'endorsement?', 'underestimate;', 'banish?', 'improbably;', 'undercut;', 'blow!', 'afflict--', 'acclaim.', 'awarded;', 'vibrates:', 'awarded--', 'excited;', 'deteriorate:', 'ruin:', 'contemptuously;', 'favored!', 'fairly!', 'marginally?', 'stupidly;', 'blow.', 'entice:', 'mishandle--', 'concede:', 'astutely;', 'impede!', 'harass.', 'overstate.', 'outperforms:', 'reasonably:', 'inspire;', 'painlessly:', 'incorrectly?', 'simplify:', 'disrupt:', 'attack;', 'proficiently:', 'entice;', 'fortunately!', 'ruin!', 'astutely!', 'worked;', 'exuberantly?', 'criticize--', 'benefits--', 'acclaim;', 'abound--', 'ruin.', 'likes?', 'graciously!', 'drag--', 'deplore;', 'reasonably.', 'defeated.', 'adamantly!', 'disorderly?', 'elegantly--', 'straighten!', 'revoke!', 'brutally--', 'outshone:', 'outperforms.', 'beautify?', 'caustically?', 'keenly:', 'abominably;', 'stigmatize:', 'drastically;', 'flagrant:', 'annihilate--', 'persevere--', 'apathetically!', 'pretentiously;', 'attack--', 'straighten?', 'facilitate:', 'deteriorate?', 'concede--', 'stabilize;', 'acclaim!', 'revoke?', 'doubtfully:', 'blasted.', 'disapprove;', 'beautify:', 'likes!', 'confuses--', 'exceedingly.', 'defeated?', 'simplifies!', 'despicably.', 'brilliantly--', 'expertly?', 'advantageously:', 'expertly--', 'fruitlessly;', 'admire:', 'punish--', 'deceitfully--', 'confuses;', 'disorderly.', 'abused;', 'corrode!', 'blow?', 'amputate--', 'annoyed!', 'poorly!', 'caustically;', 'enviably.', 'deplore?', 'vibrates?', 'incorrectly--', 'temptingly!', 'corrode--', 'abused!', 'adamantly--', 'mishandle?', 'disaster:', 'disrupt?', 'brilliantly;', 'annihilate:', 'exuberantly.', 'worry;', 'joyously!', 'speedily--', 'blasted;', 'vibrate!', 'entice?', 'deplore!', 'wholeheartedly--', 'idealize!', 'despicably?', 'eases:', 'elegantly:', 'destroy?', 'surpass.', 'jeopardize:', 'aborted?', 'gratify:', 'obnoxiously?', 'reasonably--', 'vibrates.', 'stimulates!', 'liked:', 'inflict--', 'insinuate;', 'impede.', 'excited?', 'abruptly?', 'expertly;', 'confuses?', 'inflict?', 'fear;', 'fondly!', 'exuberantly!', 'bad:', 'marginally;', 'fairly;', 'exuberantly--', 'happily--', 'outperforms--', 'expertly.', 'illuminate!', 'stigmatize--', 'liked;', 'clog;', 'fatally:', 'abused--', 'retaliate!', 'proficiently.', 'merrily;', 'eased;', 'protect:', 'mishandle:', 'straighten;', 'embolden.', 'liked--', 'impede;', 'stabilize!', 'sensibly.', 'revoke;', 'despicably--', 'abruptly:', 'disapprove--', 'annoyed--', 'sensibly;', 'merrily.', 'stupidly?', 'afflict?', 'punish;', 'blasted?', 'bemoan?', 'criticize?', 'peacefully?', 'bad.', 'monumentally--', 'monumentally.', 'break--', 'defeated!', 'fear--', 'burden?', 'precisely.', 'grossly.', 'benefits?', 'excelled?', 'reasonably?', 'abysmally:', 'promptly.', 'mangle;', 'inflict;', 'eased.', 'worry:', 'benefits:', 'clog--', 'admire--', 'profusion;', 'irritate.', 'break!', 'excessively!', 'deplore--', 'condemn?', 'overstate:', 'speedily;', 'mistakenly--', 'promptly--', 'vibrate:', 'scrambled;', 'worry.', 'gratify!', 'deteriorate--', 'vibrate--', 'overstate?', 'scrambled:', 'insidiously!', 'disorderly:', 'appreciate;', 'excelled:', 'despicably;', 'excited--', 'satisfy!', 'worry?', 'fruitlessly--', 'facilitate!', 'jeopardize;', 'inadverently:', 'facilitate;', 'incorrectly!', 'outshone;', 'deteriorate.', 'brutally;', 'doubtfully!', 'mishandle!', 'precisely?', 'unfortunately;', 'frustrated;', 'admire!', 'speedily:', 'grossly:', 'playfully:', 'inadverently;', 'stigmatize?', 'underestimate.', 'likes:', 'condescendingly?', 'generously;', 'disapprove.', 'underestimate?', 'unquestionably:', 'distrust;', 'impede?', 'elegantly;', 'liked!', 'successfully.', 'surpass;', 'beautify!', 'brilliantly!', 'accusingly:', 'enviably:', 'celebrate?', 'flagrant?', 'embolden?', 'annihilate?', 'sue?', 'responsibly;', 'adamantly:', 'dishonorablely;', 'despicably:', 'eases!', 'revoke--', 'vibrate;', 'bemoan;', 'overzealously--', 'castigate;', 'insinuate--', 'deceitfully!', 'fruitlessly!', 'drastically?', 'protect;', 'excelled--', 'inadverently?', 'sensibly:', 'accuse!', 'attack:', 'satisfy--', 'elate?', 'vibrate.', 'inhibit--', 'vibrates--', 'inflict.', 'jeopardize?', 'astonishingly:', 'improves?', 'vibrates!', 'distrust?', 'fortunately.', 'awarded!', 'wholeheartedly:', 'abysmally?', 'undercut!', 'brilliantly.', 'fruitlessly:', 'annihilate.', 'fondly:', 'openly--']\n"
     ]
    }
   ],
   "source": [
    "print(vocabulary)"
   ]
  },
  {
   "cell_type": "code",
   "execution_count": null,
   "metadata": {},
   "outputs": [],
   "source": []
  }
 ],
 "metadata": {
  "kernelspec": {
   "display_name": "Python 3",
   "language": "python",
   "name": "python3"
  },
  "language_info": {
   "codemirror_mode": {
    "name": "ipython",
    "version": 3
   },
   "file_extension": ".py",
   "mimetype": "text/x-python",
   "name": "python",
   "nbconvert_exporter": "python",
   "pygments_lexer": "ipython3",
   "version": "3.7.4"
  }
 },
 "nbformat": 4,
 "nbformat_minor": 2
}
