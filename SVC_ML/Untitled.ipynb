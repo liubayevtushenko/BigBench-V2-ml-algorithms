{
 "cells": [
  {
   "cell_type": "code",
   "execution_count": 1,
   "metadata": {},
   "outputs": [],
   "source": [
    "from pyspark.ml.classification import NaiveBayes\n",
    "from pyspark.ml.evaluation import MulticlassClassificationEvaluator"
   ]
  },
  {
   "cell_type": "code",
   "execution_count": 2,
   "metadata": {},
   "outputs": [],
   "source": [
    "from pyspark.ml.linalg import Vectors\n",
    "from pyspark.sql import SQLContext\n",
    "from pyspark.sql import SparkSession\n",
    "from pyspark.ml.feature import HashingTF, IDF, Tokenizer"
   ]
  },
  {
   "cell_type": "code",
   "execution_count": 3,
   "metadata": {},
   "outputs": [],
   "source": [
    "spark = SparkSession.builder.appName('Project').getOrCreate()\n",
    "\n",
    "dataset=spark.read.csv(\"reviews.tbl\", inferSchema = True, header = True, sep = '|')\n",
    "\n",
    "dataset.createTempView(\"product_reviews\")"
   ]
  },
  {
   "cell_type": "code",
   "execution_count": 4,
   "metadata": {},
   "outputs": [],
   "source": [
    "q=\"SELECT CASE pr_rating WHEN 1 THEN '0' WHEN 2 THEN '0' WHEN 3 THEN '0' WHEN 4 THEN '1' WHEN 5 THEN '1' END AS pr_r_rating, pr_content FROM product_reviews WHERE pmod(pr_review_id, 5) IN (1,2,3)\""
   ]
  },
  {
   "cell_type": "code",
   "execution_count": 5,
   "metadata": {},
   "outputs": [],
   "source": [
    "df = spark.sql(q).toDF(\"label\", \"sentence\")"
   ]
  },
  {
   "cell_type": "code",
   "execution_count": 6,
   "metadata": {},
   "outputs": [],
   "source": [
    "tokenizer = Tokenizer(inputCol=\"sentence\", outputCol=\"words\")\n",
    "wordsData = tokenizer.transform(df)"
   ]
  },
  {
   "cell_type": "code",
   "execution_count": 7,
   "metadata": {},
   "outputs": [],
   "source": [
    "hashingTF = HashingTF(inputCol=\"words\",outputCol=\"rawFeatures\")"
   ]
  },
  {
   "cell_type": "code",
   "execution_count": 8,
   "metadata": {},
   "outputs": [],
   "source": [
    "featurizedData = hashingTF.transform(wordsData)"
   ]
  },
  {
   "cell_type": "code",
   "execution_count": 9,
   "metadata": {},
   "outputs": [],
   "source": [
    "idf = IDF(inputCol = \"rawFeatures\",outputCol = \"features\")"
   ]
  },
  {
   "cell_type": "code",
   "execution_count": 10,
   "metadata": {},
   "outputs": [],
   "source": [
    "idfModel = idf.fit(featurizedData)"
   ]
  },
  {
   "cell_type": "code",
   "execution_count": 11,
   "metadata": {},
   "outputs": [],
   "source": [
    "rescaledData = idfModel.transform(featurizedData)"
   ]
  },
  {
   "cell_type": "code",
   "execution_count": 13,
   "metadata": {},
   "outputs": [
    {
     "name": "stdout",
     "output_type": "stream",
     "text": [
      "+-----+--------------------+\n",
      "|label|            sentence|\n",
      "+-----+--------------------+\n",
      "|    0|attainments are; ...|\n",
      "|    0|fluffily ironic e...|\n",
      "|    0|dolphins about ov...|\n",
      "|    0|bullshit must sub...|\n",
      "|    0|silent decline or...|\n",
      "|    0|bold platelets ex...|\n",
      "|    0|special sustainab...|\n",
      "|    1|quick winner afte...|\n",
      "|    0|frays doze whitho...|\n",
      "|    0|dolphins in place...|\n",
      "|    0|bravely permanent...|\n",
      "|    1|ruthlessly risk-f...|\n",
      "|    0|best-performing d...|\n",
      "|    0|orbits need to in...|\n",
      "|    0|idle patience cou...|\n",
      "|    0|busy deny tithes ...|\n",
      "|    0|quick brave notor...|\n",
      "|    0|sheaves will have...|\n",
      "|    0|daringly fluffy f...|\n",
      "|    0|carefully express...|\n",
      "+-----+--------------------+\n",
      "only showing top 20 rows\n",
      "\n"
     ]
    }
   ],
   "source": [
    "rescaledData.select(\"label\", \"sentence\").show()"
   ]
  },
  {
   "cell_type": "code",
   "execution_count": 14,
   "metadata": {},
   "outputs": [
    {
     "name": "stdout",
     "output_type": "stream",
     "text": [
      "root\n",
      " |-- label: string (nullable = true)\n",
      " |-- sentence: string (nullable = true)\n",
      " |-- words: array (nullable = true)\n",
      " |    |-- element: string (containsNull = true)\n",
      " |-- rawFeatures: vector (nullable = true)\n",
      " |-- features: vector (nullable = true)\n",
      "\n"
     ]
    }
   ],
   "source": [
    "rescaledData.printSchema()"
   ]
  },
  {
   "cell_type": "code",
   "execution_count": 15,
   "metadata": {},
   "outputs": [],
   "source": [
    "df = rescaledData.select(rescaledData[\"label\"].cast(\"double\"),(rescaledData[\"features\"]))"
   ]
  },
  {
   "cell_type": "code",
   "execution_count": 16,
   "metadata": {},
   "outputs": [
    {
     "name": "stdout",
     "output_type": "stream",
     "text": [
      "+-----+--------------------+\n",
      "|label|            features|\n",
      "+-----+--------------------+\n",
      "|  0.0|(262144,[12925,50...|\n",
      "|  0.0|(262144,[61231,68...|\n",
      "|  0.0|(262144,[10300,18...|\n",
      "|  0.0|(262144,[11209,70...|\n",
      "|  0.0|(262144,[20779,27...|\n",
      "|  0.0|(262144,[5987,612...|\n",
      "|  0.0|(262144,[25416,25...|\n",
      "|  1.0|(262144,[12925,22...|\n",
      "|  0.0|(262144,[18375,21...|\n",
      "|  0.0|(262144,[9639,183...|\n",
      "|  0.0|(262144,[18391,28...|\n",
      "|  1.0|(262144,[25416,11...|\n",
      "|  0.0|(262144,[6504,104...|\n",
      "|  0.0|(262144,[20497,20...|\n",
      "|  0.0|(262144,[40140,10...|\n",
      "|  0.0|(262144,[329,1292...|\n",
      "|  0.0|(262144,[9639,223...|\n",
      "|  0.0|(262144,[329,2813...|\n",
      "|  0.0|(262144,[21683,37...|\n",
      "|  0.0|(262144,[329,1540...|\n",
      "+-----+--------------------+\n",
      "only showing top 20 rows\n",
      "\n"
     ]
    }
   ],
   "source": [
    "df.show()"
   ]
  },
  {
   "cell_type": "code",
   "execution_count": 60,
   "metadata": {
    "scrolled": true
   },
   "outputs": [],
   "source": []
  },
  {
   "cell_type": "code",
   "execution_count": 17,
   "metadata": {},
   "outputs": [],
   "source": [
    "training, test = df.randomSplit([0.6, 0.4])"
   ]
  },
  {
   "cell_type": "code",
   "execution_count": 18,
   "metadata": {},
   "outputs": [],
   "source": [
    "nb = NaiveBayes(smoothing=1.0, modelType='multinomial')"
   ]
  },
  {
   "cell_type": "code",
   "execution_count": 19,
   "metadata": {
    "scrolled": false
   },
   "outputs": [],
   "source": [
    "model = nb.fit(training)"
   ]
  },
  {
   "cell_type": "code",
   "execution_count": 20,
   "metadata": {},
   "outputs": [],
   "source": [
    "predictions = model.transform(test)"
   ]
  },
  {
   "cell_type": "code",
   "execution_count": 21,
   "metadata": {},
   "outputs": [
    {
     "name": "stdout",
     "output_type": "stream",
     "text": [
      "+-----+--------------------+--------------------+--------------------+----------+\n",
      "|label|            features|       rawPrediction|         probability|prediction|\n",
      "+-----+--------------------+--------------------+--------------------+----------+\n",
      "|  0.0|(262144,[11,64,86...|[-900.21723400820...|[1.0,9.1136267437...|       0.0|\n",
      "|  0.0|(262144,[11,64,86...|[-598.88356854243...|[1.0,7.3664213713...|       0.0|\n",
      "|  0.0|(262144,[11,64,12...|[-221.22851839312...|[0.99999999999934...|       0.0|\n",
      "|  0.0|(262144,[11,170,2...|[-339.21047824820...|[1.0,5.2211867711...|       0.0|\n",
      "|  0.0|(262144,[11,170,2...|[-185.73623387179...|[0.99999999999999...|       0.0|\n",
      "|  0.0|(262144,[11,329,2...|[-880.43014395284...|[1.0,1.7794249793...|       0.0|\n",
      "|  0.0|(262144,[11,329,4...|[-774.12725915557...|[1.0,4.1711072721...|       0.0|\n",
      "|  0.0|(262144,[11,329,7...|[-857.65037560890...|[1.0,3.1787527783...|       0.0|\n",
      "|  0.0|(262144,[11,329,9...|[-432.39164269258...|[1.0,3.5122217036...|       0.0|\n",
      "|  0.0|(262144,[11,329,1...|[-774.26597657446...|[1.0,4.6643766995...|       0.0|\n",
      "|  0.0|(262144,[11,329,1...|[-748.59389933889...|[1.0,1.0407489693...|       0.0|\n",
      "|  0.0|(262144,[11,2150,...|[-570.48798306539...|[1.0,4.8694931335...|       0.0|\n",
      "|  0.0|(262144,[11,4081,...|[-824.98460096698...|[1.0,8.7220961804...|       0.0|\n",
      "|  0.0|(262144,[11,7002,...|[-767.41341424181...|[1.0,1.0829257754...|       0.0|\n",
      "|  0.0|(262144,[11,8579,...|[-869.30738285020...|[1.0,2.2053725907...|       0.0|\n",
      "|  0.0|(262144,[11,9639,...|[-676.14827296458...|[1.0,2.8416419604...|       0.0|\n",
      "|  0.0|(262144,[11,9639,...|[-721.25723443848...|[1.0,5.3664988053...|       0.0|\n",
      "|  0.0|(262144,[11,9639,...|[-721.77684045963...|[1.0,1.8674302216...|       0.0|\n",
      "|  0.0|(262144,[11,9639,...|[-882.94091514648...|[1.0,4.6682187004...|       0.0|\n",
      "|  0.0|(262144,[11,9639,...|[-369.60081571445...|[0.99999999999999...|       0.0|\n",
      "+-----+--------------------+--------------------+--------------------+----------+\n",
      "only showing top 20 rows\n",
      "\n"
     ]
    }
   ],
   "source": [
    "predictions.show()"
   ]
  },
  {
   "cell_type": "code",
   "execution_count": 22,
   "metadata": {},
   "outputs": [],
   "source": [
    "evaluator = MulticlassClassificationEvaluator(labelCol=\"label\",predictionCol=\"prediction\",metricName=\"accuracy\")"
   ]
  },
  {
   "cell_type": "code",
   "execution_count": 23,
   "metadata": {},
   "outputs": [],
   "source": [
    "accuracy=evaluator.evaluate(predictions)"
   ]
  },
  {
   "cell_type": "code",
   "execution_count": 24,
   "metadata": {},
   "outputs": [
    {
     "name": "stdout",
     "output_type": "stream",
     "text": [
      "Test set accuracy = 0.8714461034976477\n"
     ]
    }
   ],
   "source": [
    "print (\"Test set accuracy = \"+ str(accuracy))\n"
   ]
  },
  {
   "cell_type": "code",
   "execution_count": null,
   "metadata": {},
   "outputs": [],
   "source": [
    "\n"
   ]
  },
  {
   "cell_type": "code",
   "execution_count": null,
   "metadata": {},
   "outputs": [],
   "source": []
  }
 ],
 "metadata": {
  "kernelspec": {
   "display_name": "Python 3",
   "language": "python",
   "name": "python3"
  },
  "language_info": {
   "codemirror_mode": {
    "name": "ipython",
    "version": 3
   },
   "file_extension": ".py",
   "mimetype": "text/x-python",
   "name": "python",
   "nbconvert_exporter": "python",
   "pygments_lexer": "ipython3",
   "version": "3.7.4"
  }
 },
 "nbformat": 4,
 "nbformat_minor": 2
}
