{
 "cells": [
  {
   "cell_type": "code",
   "execution_count": 1,
   "metadata": {},
   "outputs": [],
   "source": [
    "from pyspark.sql import SQLContext\n",
    "from pyspark.ml.fpm import FPGrowth\n",
    "from pyspark.sql import SparkSession\n",
    "from pyspark.sql import Row\n",
    "import mlflow\n",
    "import json\n",
    "\n",
    "spark = SparkSession.builder.appName('Project').getOrCreate()\n",
    "\n",
    "\n",
    "dataset=spark.read.csv(\"items.tbl\", inferSchema = True, header = True, sep = '|')\n",
    "dataset.createTempView(\"items\")\n",
    "\n",
    "\n",
    "df = spark.read.json(\"clicks1.json\")\n",
    "df.createTempView(\"clicks\")\n",
    "\n",
    "\n",
    "q=\"SELECT collect_set(logs.wl_customer_id) as items, i.i_category_id FROM(select wl_customer_id, wl_item_id from clicks lateral view json_tuple('wl_customer_id','wl_item_id') l where wl_customer_id is not null) logs, items i WHERE logs.wl_item_id = i.i_item_id AND i.i_category_id IS NOT NULL group BY i_category_id\"\n",
    "\n",
    "df = spark.sql(q)\n",
    "\n",
    "\n",
    "fpGrowth = FPGrowth(itemsCol=\"items\", minSupport=0.01, minConfidence=0.9, numPartitions = 2)\n",
    "model = fpGrowth.fit(df)"
   ]
  },
  {
   "cell_type": "code",
   "execution_count": 2,
   "metadata": {},
   "outputs": [
    {
     "name": "stdout",
     "output_type": "stream",
     "text": [
      "+------------+-------------+\n",
      "|       items|i_category_id|\n",
      "+------------+-------------+\n",
      "|[0, 1, 2, 3]|           12|\n",
      "|[0, 1, 2, 3]|            1|\n",
      "|[0, 1, 2, 3]|           13|\n",
      "|[0, 1, 2, 3]|           16|\n",
      "|[0, 1, 2, 3]|            6|\n",
      "|[0, 1, 2, 3]|            3|\n",
      "|[0, 1, 2, 3]|            5|\n",
      "|[0, 1, 2, 3]|           19|\n",
      "|[0, 1, 2, 3]|           15|\n",
      "|[0, 1, 2, 3]|            9|\n",
      "|[0, 1, 2, 3]|           17|\n",
      "|[0, 1, 2, 3]|            4|\n",
      "|[0, 1, 2, 3]|            8|\n",
      "|[0, 1, 2, 3]|            7|\n",
      "|[0, 1, 2, 3]|           10|\n",
      "|[0, 1, 2, 3]|           11|\n",
      "|   [0, 1, 2]|           14|\n",
      "|[0, 1, 2, 3]|            2|\n",
      "|[0, 1, 2, 3]|            0|\n",
      "|[0, 1, 2, 3]|           18|\n",
      "+------------+-------------+\n",
      "\n"
     ]
    }
   ],
   "source": [
    "df.show()"
   ]
  },
  {
   "cell_type": "code",
   "execution_count": 3,
   "metadata": {},
   "outputs": [
    {
     "name": "stdout",
     "output_type": "stream",
     "text": [
      "+------------+----+\n",
      "|       items|freq|\n",
      "+------------+----+\n",
      "|         [1]|  20|\n",
      "|      [1, 2]|  20|\n",
      "|   [1, 2, 0]|  20|\n",
      "|      [1, 0]|  20|\n",
      "|         [0]|  20|\n",
      "|         [2]|  20|\n",
      "|      [2, 0]|  20|\n",
      "|         [3]|  19|\n",
      "|      [3, 1]|  19|\n",
      "|   [3, 1, 2]|  19|\n",
      "|[3, 1, 2, 0]|  19|\n",
      "|   [3, 1, 0]|  19|\n",
      "|      [3, 2]|  19|\n",
      "|   [3, 2, 0]|  19|\n",
      "|      [3, 0]|  19|\n",
      "+------------+----+\n",
      "\n",
      "+----------+----------+----------+----+\n",
      "|antecedent|consequent|confidence|lift|\n",
      "+----------+----------+----------+----+\n",
      "|    [3, 2]|       [1]|       1.0| 1.0|\n",
      "|    [3, 2]|       [0]|       1.0| 1.0|\n",
      "|    [3, 1]|       [2]|       1.0| 1.0|\n",
      "|    [3, 1]|       [0]|       1.0| 1.0|\n",
      "|    [1, 0]|       [2]|       1.0| 1.0|\n",
      "|    [1, 0]|       [3]|      0.95| 1.0|\n",
      "| [3, 1, 0]|       [2]|       1.0| 1.0|\n",
      "|    [1, 2]|       [0]|       1.0| 1.0|\n",
      "|    [1, 2]|       [3]|      0.95| 1.0|\n",
      "|       [3]|       [1]|       1.0| 1.0|\n",
      "|       [3]|       [2]|       1.0| 1.0|\n",
      "|       [3]|       [0]|       1.0| 1.0|\n",
      "| [1, 2, 0]|       [3]|      0.95| 1.0|\n",
      "| [3, 1, 2]|       [0]|       1.0| 1.0|\n",
      "|    [2, 0]|       [1]|       1.0| 1.0|\n",
      "|    [2, 0]|       [3]|      0.95| 1.0|\n",
      "|       [0]|       [1]|       1.0| 1.0|\n",
      "|       [0]|       [2]|       1.0| 1.0|\n",
      "|       [0]|       [3]|      0.95| 1.0|\n",
      "|    [3, 0]|       [1]|       1.0| 1.0|\n",
      "+----------+----------+----------+----+\n",
      "only showing top 20 rows\n",
      "\n",
      "+------------+-------------+----------+\n",
      "|       items|i_category_id|prediction|\n",
      "+------------+-------------+----------+\n",
      "|[0, 1, 2, 3]|           12|        []|\n",
      "|[0, 1, 2, 3]|            1|        []|\n",
      "|[0, 1, 2, 3]|           13|        []|\n",
      "|[0, 1, 2, 3]|           16|        []|\n",
      "|[0, 1, 2, 3]|            6|        []|\n",
      "|[0, 1, 2, 3]|            3|        []|\n",
      "|[0, 1, 2, 3]|            5|        []|\n",
      "|[0, 1, 2, 3]|           19|        []|\n",
      "|[0, 1, 2, 3]|           15|        []|\n",
      "|[0, 1, 2, 3]|            9|        []|\n",
      "|[0, 1, 2, 3]|           17|        []|\n",
      "|[0, 1, 2, 3]|            4|        []|\n",
      "|[0, 1, 2, 3]|            8|        []|\n",
      "|[0, 1, 2, 3]|            7|        []|\n",
      "|[0, 1, 2, 3]|           10|        []|\n",
      "|[0, 1, 2, 3]|           11|        []|\n",
      "|   [0, 1, 2]|           14|       [3]|\n",
      "|[0, 1, 2, 3]|            2|        []|\n",
      "|[0, 1, 2, 3]|            0|        []|\n",
      "|[0, 1, 2, 3]|           18|        []|\n",
      "+------------+-------------+----------+\n",
      "\n"
     ]
    }
   ],
   "source": [
    "# Display frequent itemsets.\n",
    "model.freqItemsets.show()\n",
    "\n",
    "model.associationRules.show()\n",
    "\n",
    "model.transform(df).show()"
   ]
  },
  {
   "cell_type": "code",
   "execution_count": null,
   "metadata": {},
   "outputs": [],
   "source": []
  }
 ],
 "metadata": {
  "kernelspec": {
   "display_name": "Python 3",
   "language": "python",
   "name": "python3"
  },
  "language_info": {
   "codemirror_mode": {
    "name": "ipython",
    "version": 3
   },
   "file_extension": ".py",
   "mimetype": "text/x-python",
   "name": "python",
   "nbconvert_exporter": "python",
   "pygments_lexer": "ipython3",
   "version": "3.7.4"
  }
 },
 "nbformat": 4,
 "nbformat_minor": 2
}
