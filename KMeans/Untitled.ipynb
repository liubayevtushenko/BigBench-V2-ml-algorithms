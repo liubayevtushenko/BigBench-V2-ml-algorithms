{
 "cells": [
  {
   "cell_type": "code",
   "execution_count": 1,
   "metadata": {},
   "outputs": [
    {
     "name": "stderr",
     "output_type": "stream",
     "text": [
      "/home/liuba/anaconda3/lib/python3.7/site-packages/py4j/java_collections.py:13: DeprecationWarning: Using or importing the ABCs from 'collections' instead of from 'collections.abc' is deprecated, and in 3.8 it will stop working\n",
      "  from collections import (\n",
      "/home/liuba/anaconda3/lib/python3.7/site-packages/pyspark/resultiterable.py:23: DeprecationWarning: Using or importing the ABCs from 'collections' instead of from 'collections.abc' is deprecated, and in 3.8 it will stop working\n",
      "  class ResultIterable(collections.Iterable):\n"
     ]
    },
    {
     "name": "stdout",
     "output_type": "stream",
     "text": [
      "[0.7889317075062438]\n",
      "[0.7889317075062438, 0.7514847853591848]\n",
      "[0.7889317075062438, 0.7514847853591848, 0.7338088142714083]\n",
      "[0.7889317075062438, 0.7514847853591848, 0.7338088142714083, 0.7240653581288485]\n",
      "[0.7889317075062438, 0.7514847853591848, 0.7338088142714083, 0.7240653581288485, 0.7132588737268051]\n",
      "[0.7889317075062438, 0.7514847853591848, 0.7338088142714083, 0.7240653581288485, 0.7132588737268051, 0.7096103940730919]\n",
      "[0.7889317075062438, 0.7514847853591848, 0.7338088142714083, 0.7240653581288485, 0.7132588737268051, 0.7096103940730919, 0.7043503575891934]\n",
      "[0.7889317075062438, 0.7514847853591848, 0.7338088142714083, 0.7240653581288485, 0.7132588737268051, 0.7096103940730919, 0.7043503575891934, 0.7052622085156856]\n",
      "[0.7889317075062438, 0.7514847853591848, 0.7338088142714083, 0.7240653581288485, 0.7132588737268051, 0.7096103940730919, 0.7043503575891934, 0.7052622085156856, 0.701440108222692]\n",
      "[0.7889317075062438, 0.7514847853591848, 0.7338088142714083, 0.7240653581288485, 0.7132588737268051, 0.7096103940730919, 0.7043503575891934, 0.7052622085156856, 0.701440108222692, 0.69815754938065]\n",
      "[0.7889317075062438, 0.7514847853591848, 0.7338088142714083, 0.7240653581288485, 0.7132588737268051, 0.7096103940730919, 0.7043503575891934, 0.7052622085156856, 0.701440108222692, 0.69815754938065, 0.6947524686636438]\n",
      "[0.7889317075062438, 0.7514847853591848, 0.7338088142714083, 0.7240653581288485, 0.7132588737268051, 0.7096103940730919, 0.7043503575891934, 0.7052622085156856, 0.701440108222692, 0.69815754938065, 0.6947524686636438, 0.6897074162202103]\n",
      "[0.7889317075062438, 0.7514847853591848, 0.7338088142714083, 0.7240653581288485, 0.7132588737268051, 0.7096103940730919, 0.7043503575891934, 0.7052622085156856, 0.701440108222692, 0.69815754938065, 0.6947524686636438, 0.6897074162202103, 0.6934433815063332]\n",
      "Cluster Centers: \n",
      "[7.05460097e+03 8.12652068e-01 2.58394161e+00 2.36496350e+00\n",
      " 9.27007299e-01 2.21654501e+00 1.04136253e+00 2.29197080e+00\n",
      " 1.41362530e+00 1.32846715e+00 1.56690998e+00]\n",
      "[305.83617747   0.73720137   2.63822526   2.37201365   0.90102389\n",
      "   2.3105802    0.96245734   2.45051195   1.35836177   1.41296928\n",
      "   1.76109215]\n",
      "[2.97374176e+03 7.44505495e-01 2.43681319e+00 2.37637363e+00\n",
      " 8.21428571e-01 2.28846154e+00 1.11813187e+00 2.29395604e+00\n",
      " 1.43681319e+00 1.39010989e+00 1.83516484e+00]\n",
      "[5.38307246e+03 8.91304348e-01 2.56763285e+00 2.38164251e+00\n",
      " 9.85507246e-01 2.25603865e+00 1.09903382e+00 2.40096618e+00\n",
      " 1.58695652e+00 1.39371981e+00 1.81400966e+00]\n",
      "[3.74722338e+03 7.61038961e-01 2.64935065e+00 2.50129870e+00\n",
      " 9.79220779e-01 2.35064935e+00 1.14285714e+00 2.37402597e+00\n",
      " 1.44155844e+00 1.36883117e+00 1.77402597e+00]\n",
      "[1.04639010e+04 6.69082126e-01 2.57246377e+00 2.27536232e+00\n",
      " 9.05797101e-01 2.15217391e+00 9.97584541e-01 2.42512077e+00\n",
      " 1.46135266e+00 1.43236715e+00 1.64975845e+00]\n",
      "[6.22136735e+03 7.72959184e-01 2.60459184e+00 2.37244898e+00\n",
      " 9.43877551e-01 2.41071429e+00 1.03826531e+00 2.41581633e+00\n",
      " 1.50510204e+00 1.45153061e+00 1.76530612e+00]\n",
      "[7.91203133e+03 7.34939759e-01 2.53975904e+00 2.27228916e+00\n",
      " 9.75903614e-01 2.34939759e+00 1.04096386e+00 2.18313253e+00\n",
      " 1.46024096e+00 1.30361446e+00 1.65060241e+00]\n",
      "[9.60343521e+03 7.13936430e-01 2.65036675e+00 2.41075795e+00\n",
      " 9.87775061e-01 2.45232274e+00 1.09290954e+00 2.46210269e+00\n",
      " 1.50366748e+00 1.31295844e+00 1.76528117e+00]\n",
      "[8.76874365e+03 7.43654822e-01 2.69035533e+00 2.58121827e+00\n",
      " 1.03299492e+00 2.44162437e+00 1.01522843e+00 2.45685279e+00\n",
      " 1.46446701e+00 1.35025381e+00 1.85532995e+00]\n",
      "[1.56509718e+03 8.30721003e-01 2.78056426e+00 2.53918495e+00\n",
      " 9.56112853e-01 2.32601881e+00 1.11912226e+00 2.47021944e+00\n",
      " 1.45454545e+00 1.42319749e+00 1.84012539e+00]\n",
      "[4.5486e+03 8.2500e-01 2.5850e+00 2.4100e+00 1.0800e+00 2.4900e+00\n",
      " 1.0350e+00 2.5875e+00 1.4850e+00 1.4200e+00 1.7725e+00]\n",
      "[2.24844308e+03 8.06153846e-01 2.71692308e+00 2.42153846e+00\n",
      " 9.29230769e-01 2.37846154e+00 9.75384615e-01 2.45846154e+00\n",
      " 1.42769231e+00 1.36307692e+00 1.87076923e+00]\n",
      "[9.16573333e+02 7.40000000e-01 2.58666667e+00 2.23333333e+00\n",
      " 9.56666667e-01 2.51666667e+00 1.01000000e+00 2.43000000e+00\n",
      " 1.41333333e+00 1.34000000e+00 1.79333333e+00]\n",
      "Silhouette with squared euclidean distance = 0.6934433815063332\n"
     ]
    },
    {
     "data": {
      "text/plain": [
       "<Figure size 640x480 with 0 Axes>"
      ]
     },
     "metadata": {},
     "output_type": "display_data"
    },
    {
     "data": {
      "text/plain": [
       "<Figure size 640x480 with 1 Axes>"
      ]
     },
     "metadata": {},
     "output_type": "display_data"
    }
   ],
   "source": [
    "import mlflow\n",
    "from mlflow.tracking.client import MlflowClient\n",
    "from pyspark.sql import SQLContext\n",
    "from pyspark.sql import SparkSession\n",
    "from pyspark.sql.functions import *\n",
    "from pyspark.mllib.linalg import Vectors\n",
    "from pyspark.ml.feature import VectorAssembler\n",
    "from pyspark.ml.clustering import KMeans\n",
    "from pyspark.ml.evaluation import ClusteringEvaluator\n",
    "from matplotlib import pyplot as plt\n",
    "import numpy as np\n",
    "from pyspark.sql import Row\n",
    "from pyspark.rdd import RDD\n",
    "\n",
    "spark = SparkSession.builder.appName('Project').getOrCreate()\n",
    "\n",
    "store_sales=spark.read.csv(\"store_sales.tbl\", inferSchema = True, header = True, sep = '|')\n",
    "items=spark.read.csv(\"items.tbl\", inferSchema = True, header = True, sep = '|')\n",
    "\n",
    "store_sales.createTempView('store_sales')\n",
    "items.createTempView('items')\n",
    "\n",
    "q=\"SELECT ss.ss_customer_id AS cid, count(CASE WHEN i.i_class_id=1  THEN 1 ELSE NULL END) AS id1,count(CASE WHEN i.i_class_id=3  THEN 1 ELSE NULL END) AS id3,count(CASE WHEN i.i_class_id=5  THEN 1 ELSE NULL END) AS id5,count(CASE WHEN i.i_class_id=7  THEN 1 ELSE NULL END) AS id7, count(CASE WHEN i.i_class_id=9  THEN 1 ELSE NULL END) AS id9,count(CASE WHEN i.i_class_id=11 THEN 1 ELSE NULL END) AS id11,count(CASE WHEN i.i_class_id=13 THEN 1 ELSE NULL END) AS id13,count(CASE WHEN i.i_class_id=15 THEN 1 ELSE NULL END) AS id15,count(CASE WHEN i.i_class_id=2  THEN 1 ELSE NULL END) AS id2,count(CASE WHEN i.i_class_id=4  THEN 1 ELSE NULL END) AS id4,count(CASE WHEN i.i_class_id=6  THEN 1 ELSE NULL END) AS id6,count(CASE WHEN i.i_class_id=12 THEN 1 ELSE NULL END) AS id12, count(CASE WHEN i.i_class_id=8  THEN 1 ELSE NULL END) AS id8,count(CASE WHEN i.i_class_id=10 THEN 1 ELSE NULL END) AS id10,count(CASE WHEN i.i_class_id=14 THEN 1 ELSE NULL END) AS id14,count(CASE WHEN i.i_class_id=16 THEN 1 ELSE NULL END) AS id16 FROM store_sales ss INNER JOIN items i ON ss.ss_item_id = i.i_item_id WHERE i.i_category_name IN ('cat#01','cat#02','cat#03','cat#04','cat#05','cat#06','cat#07','cat#08','cat#09','cat#10','cat#11','cat#12','cat#013','cat#14','cat#15') AND ss.ss_customer_id IS NOT NULL GROUP BY ss.ss_customer_id HAVING count(ss.ss_item_id) > 3\"\n",
    "\n",
    "df = spark.sql(q)\n",
    "\n",
    "\n",
    "assembler = VectorAssembler(inputCols=[\"cid\", \"id1\", \"id2\", \"id3\", \"id4\", \"id5\", \"id6\", \"id7\", \"id8\", \"id9\", \"id10\"],outputCol =\"features\")\n",
    "\n",
    "vd = assembler.transform(df)\n",
    "cost = list()\n",
    "\n",
    "for k in range (2,15):\n",
    "\n",
    "    kmeans =    KMeans().setK(k).setFeaturesCol('features').setPredictionCol('prediction')\n",
    "\n",
    "    model = kmeans.fit(vd)\n",
    "    predictions = model.transform(vd)\n",
    "    evaluator = ClusteringEvaluator()\n",
    "    silhouette = evaluator.evaluate(predictions)\n",
    "\n",
    "    cost.append(silhouette)\n",
    "\n",
    "    print(cost)\n",
    "\n",
    "centers = model.clusterCenters()\n",
    "\n",
    "print(\"Cluster Centers: \")\n",
    "for center in centers:\n",
    "    print(center)\n",
    "\n",
    "# Evaluate clustering by computing Silhouette score\n",
    "\n",
    "print(\"Silhouette with squared euclidean distance = \" + str(silhouette))\n",
    "\n",
    "with mlflow.start_run():\n",
    "    for center in centers:\n",
    "        mlflow.log_metric(\"Cluster_Centers\", all(center), step=all(center))\n",
    "mlflow.log_metric(\"Silhouette_with_squared_euclidean_distance\", silhouette)\n",
    "\n",
    "kIdx = np.argmax(cost)\n",
    "fig = plt.figure(1)\n",
    "fig, ax = plt.subplots()\n",
    "plt.plot(range (2,15), cost, 'b*-')\n",
    "plt.plot(range (2,15)[kIdx], cost[kIdx], marker = 'o', markeredgecolor = 'r')\n",
    "plt.xlim(1, plt.xlim()[1])\n",
    "plt.xlabel('Number of cluster')\n",
    "plt.ylabel('Silhouette coefficient')\n",
    "plt.title('Silhouette for K-Means clustering')\n",
    "plt.show()\n",
    "\n",
    "\t"
   ]
  },
  {
   "cell_type": "code",
   "execution_count": 15,
   "metadata": {},
   "outputs": [
    {
     "ename": "TypeError",
     "evalue": "only integer scalar arrays can be converted to a scalar index",
     "output_type": "error",
     "traceback": [
      "\u001b[0;31m---------------------------------------------------------------------------\u001b[0m",
      "\u001b[0;31mTypeError\u001b[0m                                 Traceback (most recent call last)",
      "\u001b[0;32m<ipython-input-15-730cfb9a5967>\u001b[0m in \u001b[0;36m<module>\u001b[0;34m\u001b[0m\n\u001b[1;32m     10\u001b[0m \t            c='blue', label='cluster 2')\n\u001b[1;32m     11\u001b[0m \u001b[0;32mfor\u001b[0m \u001b[0mi\u001b[0m \u001b[0;32min\u001b[0m \u001b[0mcenters\u001b[0m\u001b[0;34m:\u001b[0m\u001b[0;34m\u001b[0m\u001b[0;34m\u001b[0m\u001b[0m\n\u001b[0;32m---> 12\u001b[0;31m     \u001b[0mplt\u001b[0m\u001b[0;34m.\u001b[0m\u001b[0mscatter\u001b[0m\u001b[0;34m(\u001b[0m\u001b[0mcenters\u001b[0m\u001b[0;34m[\u001b[0m\u001b[0mi\u001b[0m\u001b[0;34m]\u001b[0m\u001b[0;34m,\u001b[0m \u001b[0mcolor\u001b[0m\u001b[0;34m=\u001b[0m\u001b[0mcolmap\u001b[0m\u001b[0;34m[\u001b[0m\u001b[0mi\u001b[0m\u001b[0;34m]\u001b[0m\u001b[0;34m)\u001b[0m\u001b[0;34m\u001b[0m\u001b[0;34m\u001b[0m\u001b[0m\n\u001b[0m\u001b[1;32m     13\u001b[0m \u001b[0mplt\u001b[0m\u001b[0;34m.\u001b[0m\u001b[0mxlim\u001b[0m\u001b[0;34m(\u001b[0m\u001b[0;36m0\u001b[0m\u001b[0;34m,\u001b[0m \u001b[0;36m80\u001b[0m\u001b[0;34m)\u001b[0m\u001b[0;34m\u001b[0m\u001b[0;34m\u001b[0m\u001b[0m\n\u001b[1;32m     14\u001b[0m \u001b[0mplt\u001b[0m\u001b[0;34m.\u001b[0m\u001b[0mylim\u001b[0m\u001b[0;34m(\u001b[0m\u001b[0;36m0\u001b[0m\u001b[0;34m,\u001b[0m \u001b[0;36m80\u001b[0m\u001b[0;34m)\u001b[0m\u001b[0;34m\u001b[0m\u001b[0;34m\u001b[0m\u001b[0m\n",
      "\u001b[0;31mTypeError\u001b[0m: only integer scalar arrays can be converted to a scalar index"
     ]
    },
    {
     "data": {
      "image/png": "[encoded data removed]",
      "text/plain": [
       "<Figure size 432x432 with 1 Axes>"
      ]
     },
     "metadata": {
      "needs_background": "light"
     },
     "output_type": "display_data"
    }
   ],
   "source": [
    "# Run local implementation of kmeans\n",
    "km = KMeans().setK(2)\n",
    "vd1 = assembler.transform(df)\n",
    "km.fit(vd1)\n",
    "vd_panda = vd1.toPandas()\n",
    "fig, ax = plt.subplots(figsize=(6, 6))\n",
    "plt.scatter(vd_panda.iloc[:, 0], vd_panda.iloc[:, 1],\n",
    "\t            c='green', label='cluster 1')\n",
    "plt.scatter(vd_panda.iloc[:, 1], vd_panda.iloc[:, 1],\n",
    "\t            c='blue', label='cluster 2')\n",
    "for i in centers:\n",
    "    plt.scatter(centers[i], color=colmap[i])\n",
    "plt.xlim(0, 80)\n",
    "plt.ylim(0, 80)\n",
    "plt.xlabel('Eruption time in mins')\n",
    "plt.ylabel('Waiting time to next eruption')\n",
    "plt.title('Visualization of clustered data', fontweight='bold')\n",
    "ax.set_aspect('equal');"
   ]
  },
  {
   "cell_type": "code",
   "execution_count": 3,
   "metadata": {},
   "outputs": [],
   "source": []
  },
  {
   "cell_type": "code",
   "execution_count": 4,
   "metadata": {},
   "outputs": [],
   "source": []
  },
  {
   "cell_type": "code",
   "execution_count": 5,
   "metadata": {},
   "outputs": [],
   "source": []
  },
  {
   "cell_type": "code",
   "execution_count": 6,
   "metadata": {},
   "outputs": [
    {
     "ename": "AnalysisException",
     "evalue": "'Table or view not found: store_sales;'",
     "output_type": "error",
     "traceback": [
      "\u001b[0;31m---------------------------------------------------------------------------\u001b[0m",
      "\u001b[0;31mPy4JJavaError\u001b[0m                             Traceback (most recent call last)",
      "\u001b[0;32m~/anaconda3/lib/python3.7/site-packages/pyspark/sql/utils.py\u001b[0m in \u001b[0;36mdeco\u001b[0;34m(*a, **kw)\u001b[0m\n\u001b[1;32m     62\u001b[0m         \u001b[0;32mtry\u001b[0m\u001b[0;34m:\u001b[0m\u001b[0;34m\u001b[0m\u001b[0;34m\u001b[0m\u001b[0m\n\u001b[0;32m---> 63\u001b[0;31m             \u001b[0;32mreturn\u001b[0m \u001b[0mf\u001b[0m\u001b[0;34m(\u001b[0m\u001b[0;34m*\u001b[0m\u001b[0ma\u001b[0m\u001b[0;34m,\u001b[0m \u001b[0;34m**\u001b[0m\u001b[0mkw\u001b[0m\u001b[0;34m)\u001b[0m\u001b[0;34m\u001b[0m\u001b[0;34m\u001b[0m\u001b[0m\n\u001b[0m\u001b[1;32m     64\u001b[0m         \u001b[0;32mexcept\u001b[0m \u001b[0mpy4j\u001b[0m\u001b[0;34m.\u001b[0m\u001b[0mprotocol\u001b[0m\u001b[0;34m.\u001b[0m\u001b[0mPy4JJavaError\u001b[0m \u001b[0;32mas\u001b[0m \u001b[0me\u001b[0m\u001b[0;34m:\u001b[0m\u001b[0;34m\u001b[0m\u001b[0;34m\u001b[0m\u001b[0m\n",
      "\u001b[0;32m~/anaconda3/lib/python3.7/site-packages/py4j/protocol.py\u001b[0m in \u001b[0;36mget_return_value\u001b[0;34m(answer, gateway_client, target_id, name)\u001b[0m\n\u001b[1;32m    327\u001b[0m                     \u001b[0;34m\"An error occurred while calling {0}{1}{2}.\\n\"\u001b[0m\u001b[0;34m.\u001b[0m\u001b[0;34m\u001b[0m\u001b[0;34m\u001b[0m\u001b[0m\n\u001b[0;32m--> 328\u001b[0;31m                     format(target_id, \".\", name), value)\n\u001b[0m\u001b[1;32m    329\u001b[0m             \u001b[0;32melse\u001b[0m\u001b[0;34m:\u001b[0m\u001b[0;34m\u001b[0m\u001b[0;34m\u001b[0m\u001b[0m\n",
      "\u001b[0;31mPy4JJavaError\u001b[0m: An error occurred while calling o22.sql.\n: org.apache.spark.sql.AnalysisException: Table or view not found: store_sales;\n\tat org.apache.spark.sql.execution.command.DropTableCommand.run(ddl.scala:220)\n\tat org.apache.spark.sql.execution.command.ExecutedCommandExec.sideEffectResult$lzycompute(commands.scala:70)\n\tat org.apache.spark.sql.execution.command.ExecutedCommandExec.sideEffectResult(commands.scala:68)\n\tat org.apache.spark.sql.execution.command.ExecutedCommandExec.executeCollect(commands.scala:79)\n\tat org.apache.spark.sql.Dataset$$anonfun$6.apply(Dataset.scala:194)\n\tat org.apache.spark.sql.Dataset$$anonfun$6.apply(Dataset.scala:194)\n\tat org.apache.spark.sql.Dataset$$anonfun$52.apply(Dataset.scala:3370)\n\tat org.apache.spark.sql.execution.SQLExecution$$anonfun$withNewExecutionId$1.apply(SQLExecution.scala:78)\n\tat org.apache.spark.sql.execution.SQLExecution$.withSQLConfPropagated(SQLExecution.scala:125)\n\tat org.apache.spark.sql.execution.SQLExecution$.withNewExecutionId(SQLExecution.scala:73)\n\tat org.apache.spark.sql.Dataset.withAction(Dataset.scala:3369)\n\tat org.apache.spark.sql.Dataset.<init>(Dataset.scala:194)\n\tat org.apache.spark.sql.Dataset$.ofRows(Dataset.scala:79)\n\tat org.apache.spark.sql.SparkSession.sql(SparkSession.scala:642)\n\tat sun.reflect.NativeMethodAccessorImpl.invoke0(Native Method)\n\tat sun.reflect.NativeMethodAccessorImpl.invoke(NativeMethodAccessorImpl.java:62)\n\tat sun.reflect.DelegatingMethodAccessorImpl.invoke(DelegatingMethodAccessorImpl.java:43)\n\tat java.lang.reflect.Method.invoke(Method.java:498)\n\tat py4j.reflection.MethodInvoker.invoke(MethodInvoker.java:244)\n\tat py4j.reflection.ReflectionEngine.invoke(ReflectionEngine.java:357)\n\tat py4j.Gateway.invoke(Gateway.java:282)\n\tat py4j.commands.AbstractCommand.invokeMethod(AbstractCommand.java:132)\n\tat py4j.commands.CallCommand.execute(CallCommand.java:79)\n\tat py4j.GatewayConnection.run(GatewayConnection.java:238)\n\tat java.lang.Thread.run(Thread.java:748)\n",
      "\nDuring handling of the above exception, another exception occurred:\n",
      "\u001b[0;31mAnalysisException\u001b[0m                         Traceback (most recent call last)",
      "\u001b[0;32m<ipython-input-6-fa543f242f67>\u001b[0m in \u001b[0;36m<module>\u001b[0;34m\u001b[0m\n\u001b[0;32m----> 1\u001b[0;31m \u001b[0mdf\u001b[0m \u001b[0;34m=\u001b[0m \u001b[0mspark\u001b[0m\u001b[0;34m.\u001b[0m\u001b[0msql\u001b[0m\u001b[0;34m(\u001b[0m\u001b[0mq\u001b[0m\u001b[0;34m)\u001b[0m\u001b[0;34m\u001b[0m\u001b[0;34m\u001b[0m\u001b[0m\n\u001b[0m",
      "\u001b[0;32m~/anaconda3/lib/python3.7/site-packages/pyspark/sql/session.py\u001b[0m in \u001b[0;36msql\u001b[0;34m(self, sqlQuery)\u001b[0m\n\u001b[1;32m    765\u001b[0m         \u001b[0;34m[\u001b[0m\u001b[0mRow\u001b[0m\u001b[0;34m(\u001b[0m\u001b[0mf1\u001b[0m\u001b[0;34m=\u001b[0m\u001b[0;36m1\u001b[0m\u001b[0;34m,\u001b[0m \u001b[0mf2\u001b[0m\u001b[0;34m=\u001b[0m\u001b[0;34mu'row1'\u001b[0m\u001b[0;34m)\u001b[0m\u001b[0;34m,\u001b[0m \u001b[0mRow\u001b[0m\u001b[0;34m(\u001b[0m\u001b[0mf1\u001b[0m\u001b[0;34m=\u001b[0m\u001b[0;36m2\u001b[0m\u001b[0;34m,\u001b[0m \u001b[0mf2\u001b[0m\u001b[0;34m=\u001b[0m\u001b[0;34mu'row2'\u001b[0m\u001b[0;34m)\u001b[0m\u001b[0;34m,\u001b[0m \u001b[0mRow\u001b[0m\u001b[0;34m(\u001b[0m\u001b[0mf1\u001b[0m\u001b[0;34m=\u001b[0m\u001b[0;36m3\u001b[0m\u001b[0;34m,\u001b[0m \u001b[0mf2\u001b[0m\u001b[0;34m=\u001b[0m\u001b[0;34mu'row3'\u001b[0m\u001b[0;34m)\u001b[0m\u001b[0;34m]\u001b[0m\u001b[0;34m\u001b[0m\u001b[0;34m\u001b[0m\u001b[0m\n\u001b[1;32m    766\u001b[0m         \"\"\"\n\u001b[0;32m--> 767\u001b[0;31m         \u001b[0;32mreturn\u001b[0m \u001b[0mDataFrame\u001b[0m\u001b[0;34m(\u001b[0m\u001b[0mself\u001b[0m\u001b[0;34m.\u001b[0m\u001b[0m_jsparkSession\u001b[0m\u001b[0;34m.\u001b[0m\u001b[0msql\u001b[0m\u001b[0;34m(\u001b[0m\u001b[0msqlQuery\u001b[0m\u001b[0;34m)\u001b[0m\u001b[0;34m,\u001b[0m \u001b[0mself\u001b[0m\u001b[0;34m.\u001b[0m\u001b[0m_wrapped\u001b[0m\u001b[0;34m)\u001b[0m\u001b[0;34m\u001b[0m\u001b[0;34m\u001b[0m\u001b[0m\n\u001b[0m\u001b[1;32m    768\u001b[0m \u001b[0;34m\u001b[0m\u001b[0m\n\u001b[1;32m    769\u001b[0m     \u001b[0;34m@\u001b[0m\u001b[0msince\u001b[0m\u001b[0;34m(\u001b[0m\u001b[0;36m2.0\u001b[0m\u001b[0;34m)\u001b[0m\u001b[0;34m\u001b[0m\u001b[0;34m\u001b[0m\u001b[0m\n",
      "\u001b[0;32m~/anaconda3/lib/python3.7/site-packages/py4j/java_gateway.py\u001b[0m in \u001b[0;36m__call__\u001b[0;34m(self, *args)\u001b[0m\n\u001b[1;32m   1255\u001b[0m         \u001b[0manswer\u001b[0m \u001b[0;34m=\u001b[0m \u001b[0mself\u001b[0m\u001b[0;34m.\u001b[0m\u001b[0mgateway_client\u001b[0m\u001b[0;34m.\u001b[0m\u001b[0msend_command\u001b[0m\u001b[0;34m(\u001b[0m\u001b[0mcommand\u001b[0m\u001b[0;34m)\u001b[0m\u001b[0;34m\u001b[0m\u001b[0;34m\u001b[0m\u001b[0m\n\u001b[1;32m   1256\u001b[0m         return_value = get_return_value(\n\u001b[0;32m-> 1257\u001b[0;31m             answer, self.gateway_client, self.target_id, self.name)\n\u001b[0m\u001b[1;32m   1258\u001b[0m \u001b[0;34m\u001b[0m\u001b[0m\n\u001b[1;32m   1259\u001b[0m         \u001b[0;32mfor\u001b[0m \u001b[0mtemp_arg\u001b[0m \u001b[0;32min\u001b[0m \u001b[0mtemp_args\u001b[0m\u001b[0;34m:\u001b[0m\u001b[0;34m\u001b[0m\u001b[0;34m\u001b[0m\u001b[0m\n",
      "\u001b[0;32m~/anaconda3/lib/python3.7/site-packages/pyspark/sql/utils.py\u001b[0m in \u001b[0;36mdeco\u001b[0;34m(*a, **kw)\u001b[0m\n\u001b[1;32m     67\u001b[0m                                              e.java_exception.getStackTrace()))\n\u001b[1;32m     68\u001b[0m             \u001b[0;32mif\u001b[0m \u001b[0ms\u001b[0m\u001b[0;34m.\u001b[0m\u001b[0mstartswith\u001b[0m\u001b[0;34m(\u001b[0m\u001b[0;34m'org.apache.spark.sql.AnalysisException: '\u001b[0m\u001b[0;34m)\u001b[0m\u001b[0;34m:\u001b[0m\u001b[0;34m\u001b[0m\u001b[0;34m\u001b[0m\u001b[0m\n\u001b[0;32m---> 69\u001b[0;31m                 \u001b[0;32mraise\u001b[0m \u001b[0mAnalysisException\u001b[0m\u001b[0;34m(\u001b[0m\u001b[0ms\u001b[0m\u001b[0;34m.\u001b[0m\u001b[0msplit\u001b[0m\u001b[0;34m(\u001b[0m\u001b[0;34m': '\u001b[0m\u001b[0;34m,\u001b[0m \u001b[0;36m1\u001b[0m\u001b[0;34m)\u001b[0m\u001b[0;34m[\u001b[0m\u001b[0;36m1\u001b[0m\u001b[0;34m]\u001b[0m\u001b[0;34m,\u001b[0m \u001b[0mstackTrace\u001b[0m\u001b[0;34m)\u001b[0m\u001b[0;34m\u001b[0m\u001b[0;34m\u001b[0m\u001b[0m\n\u001b[0m\u001b[1;32m     70\u001b[0m             \u001b[0;32mif\u001b[0m \u001b[0ms\u001b[0m\u001b[0;34m.\u001b[0m\u001b[0mstartswith\u001b[0m\u001b[0;34m(\u001b[0m\u001b[0;34m'org.apache.spark.sql.catalyst.analysis'\u001b[0m\u001b[0;34m)\u001b[0m\u001b[0;34m:\u001b[0m\u001b[0;34m\u001b[0m\u001b[0;34m\u001b[0m\u001b[0m\n\u001b[1;32m     71\u001b[0m                 \u001b[0;32mraise\u001b[0m \u001b[0mAnalysisException\u001b[0m\u001b[0;34m(\u001b[0m\u001b[0ms\u001b[0m\u001b[0;34m.\u001b[0m\u001b[0msplit\u001b[0m\u001b[0;34m(\u001b[0m\u001b[0;34m': '\u001b[0m\u001b[0;34m,\u001b[0m \u001b[0;36m1\u001b[0m\u001b[0;34m)\u001b[0m\u001b[0;34m[\u001b[0m\u001b[0;36m1\u001b[0m\u001b[0;34m]\u001b[0m\u001b[0;34m,\u001b[0m \u001b[0mstackTrace\u001b[0m\u001b[0;34m)\u001b[0m\u001b[0;34m\u001b[0m\u001b[0;34m\u001b[0m\u001b[0m\n",
      "\u001b[0;31mAnalysisException\u001b[0m: 'Table or view not found: store_sales;'"
     ]
    }
   ],
   "source": []
  },
  {
   "cell_type": "code",
   "execution_count": null,
   "metadata": {},
   "outputs": [],
   "source": [
    "items.show()"
   ]
  },
  {
   "cell_type": "code",
   "execution_count": 18,
   "metadata": {},
   "outputs": [],
   "source": [
    "q1=\"drop view items\""
   ]
  },
  {
   "cell_type": "code",
   "execution_count": 19,
   "metadata": {},
   "outputs": [],
   "source": [
    "df = spark.sql(q1)"
   ]
  },
  {
   "cell_type": "code",
   "execution_count": 7,
   "metadata": {},
   "outputs": [],
   "source": [
    "store_sales.createTempView('store_sales')"
   ]
  },
  {
   "cell_type": "code",
   "execution_count": 8,
   "metadata": {},
   "outputs": [],
   "source": [
    "items.createTempView('items')"
   ]
  },
  {
   "cell_type": "code",
   "execution_count": 9,
   "metadata": {},
   "outputs": [],
   "source": [
    "q=\"SELECT ss.ss_customer_id AS cid, count(CASE WHEN i.i_class_id=1  THEN 1 ELSE NULL END) AS id1,count(CASE WHEN i.i_class_id=3  THEN 1 ELSE NULL END) AS id3,count(CASE WHEN i.i_class_id=5  THEN 1 ELSE NULL END) AS id5,count(CASE WHEN i.i_class_id=7  THEN 1 ELSE NULL END) AS id7, count(CASE WHEN i.i_class_id=9  THEN 1 ELSE NULL END) AS id9,count(CASE WHEN i.i_class_id=11 THEN 1 ELSE NULL END) AS id11,count(CASE WHEN i.i_class_id=13 THEN 1 ELSE NULL END) AS id13,count(CASE WHEN i.i_class_id=15 THEN 1 ELSE NULL END) AS id15,count(CASE WHEN i.i_class_id=2  THEN 1 ELSE NULL END) AS id2,count(CASE WHEN i.i_class_id=4  THEN 1 ELSE NULL END) AS id4,count(CASE WHEN i.i_class_id=6  THEN 1 ELSE NULL END) AS id6,count(CASE WHEN i.i_class_id=12 THEN 1 ELSE NULL END) AS id12, count(CASE WHEN i.i_class_id=8  THEN 1 ELSE NULL END) AS id8,count(CASE WHEN i.i_class_id=10 THEN 1 ELSE NULL END) AS id10,count(CASE WHEN i.i_class_id=14 THEN 1 ELSE NULL END) AS id14,count(CASE WHEN i.i_class_id=16 THEN 1 ELSE NULL END) AS id16 FROM store_sales ss INNER JOIN items i ON ss.ss_item_id = i.i_item_id WHERE i.i_category_name IN ('cat#01','cat#02','cat#03','cat#04','cat#05','cat#06','cat#07','cat#08','cat#09','cat#10','cat#11','cat#12','cat#013','cat#14','cat#15') AND ss.ss_customer_id IS NOT NULL GROUP BY ss.ss_customer_id HAVING count(ss.ss_item_id) > 3\""
   ]
  },
  {
   "cell_type": "code",
   "execution_count": 10,
   "metadata": {},
   "outputs": [],
   "source": [
    "df = spark.sql(q)"
   ]
  },
  {
   "cell_type": "code",
   "execution_count": 40,
   "metadata": {},
   "outputs": [],
   "source": [
    "assembler = VectorAssembler(inputCols=[\"cid\", \"id1\", \"id2\", \"id3\", \"id4\", \"id5\", \"id6\", \"id7\", \"id8\", \"id9\", \"id10\"],outputCol =\"features\")"
   ]
  },
  {
   "cell_type": "code",
   "execution_count": 41,
   "metadata": {},
   "outputs": [],
   "source": [
    "vd = assembler.transform(df)"
   ]
  },
  {
   "cell_type": "code",
   "execution_count": 48,
   "metadata": {},
   "outputs": [],
   "source": [
    "kmeans = KMeans().setK(8).setFeaturesCol('features').setPredictionCol(\"prediction\")"
   ]
  },
  {
   "cell_type": "code",
   "execution_count": 49,
   "metadata": {},
   "outputs": [],
   "source": [
    "model = kmeans.fit(vd)"
   ]
  },
  {
   "cell_type": "code",
   "execution_count": 50,
   "metadata": {},
   "outputs": [],
   "source": [
    "centers = model.clusterCenters()"
   ]
  },
  {
   "cell_type": "code",
   "execution_count": 51,
   "metadata": {},
   "outputs": [
    {
     "name": "stdout",
     "output_type": "stream",
     "text": [
      "Cluster Centers: \n",
      "[6.61669841e+03 7.77777778e-01 2.57301587e+00 2.34285714e+00\n",
      " 9.23809524e-01 2.25079365e+00 1.01746032e+00 2.32063492e+00\n",
      " 1.46190476e+00 1.38095238e+00 1.63015873e+00]\n",
      "[8.03439276e+02 7.55813953e-01 2.67183463e+00 2.36304910e+00\n",
      " 9.41860465e-01 2.39018088e+00 9.79328165e-01 2.43540052e+00\n",
      " 1.40956072e+00 1.36304910e+00 1.78294574e+00]\n",
      "[2.38282442e+03 8.12071331e-01 2.62551440e+00 2.43209877e+00\n",
      " 8.88888889e-01 2.34979424e+00 1.10562414e+00 2.44581619e+00\n",
      " 1.42935528e+00 1.41152263e+00 1.83539095e+00]\n",
      "[9.11895645e+03 6.93379791e-01 2.69163763e+00 2.56097561e+00\n",
      " 9.96515679e-01 2.45296167e+00 1.02787456e+00 2.46341463e+00\n",
      " 1.46515679e+00 1.34320557e+00 1.81881533e+00]\n",
      "[5.27243223e+03 8.88554217e-01 2.61144578e+00 2.44728916e+00\n",
      " 1.03162651e+00 2.40361446e+00 1.07379518e+00 2.46084337e+00\n",
      " 1.56325301e+00 1.39759036e+00 1.83584337e+00]\n",
      "[1.03059487e+04 7.04424779e-01 2.57522124e+00 2.27964602e+00\n",
      " 9.32743363e-01 2.22654867e+00 1.04247788e+00 2.45840708e+00\n",
      " 1.49026549e+00 1.38938053e+00 1.68495575e+00]\n",
      "[7.88761008e+03 7.71428571e-01 2.55966387e+00 2.31596639e+00\n",
      " 9.74789916e-01 2.34621849e+00 1.04705882e+00 2.21848739e+00\n",
      " 1.46218487e+00 1.31932773e+00 1.65546218e+00]\n",
      "[3.87155682e+03 7.38636364e-01 2.56960227e+00 2.40198864e+00\n",
      " 9.84375000e-01 2.36221591e+00 1.11079545e+00 2.41335227e+00\n",
      " 1.43181818e+00 1.40056818e+00 1.80681818e+00]\n"
     ]
    }
   ],
   "source": [
    "print(\"Cluster Centers: \")\n",
    "for center in centers:\n",
    "    print(center)"
   ]
  },
  {
   "cell_type": "code",
   "execution_count": 52,
   "metadata": {},
   "outputs": [],
   "source": [
    "import matplotlib.pyplot as plt"
   ]
  },
  {
   "cell_type": "code",
   "execution_count": 53,
   "metadata": {},
   "outputs": [],
   "source": [
    "from pyspark.ml.evaluation import ClusteringEvaluator\n",
    "evaluator = ClusteringEvaluator()\n",
    "predictions = model.transform(vd)\n",
    "\n",
    "silhouette = evaluator.evaluate(predictions)"
   ]
  },
  {
   "cell_type": "code",
   "execution_count": 54,
   "metadata": {},
   "outputs": [
    {
     "data": {
      "text/plain": [
       "[<matplotlib.lines.Line2D at 0x7f3eac86a990>,\n",
       " <matplotlib.lines.Line2D at 0x7f3eac86a590>,\n",
       " <matplotlib.lines.Line2D at 0x7f3eac86ad50>,\n",
       " <matplotlib.lines.Line2D at 0x7f3eac86af10>,\n",
       " <matplotlib.lines.Line2D at 0x7f3eac86a690>,\n",
       " <matplotlib.lines.Line2D at 0x7f3eac86ad10>,\n",
       " <matplotlib.lines.Line2D at 0x7f3eac86f190>,\n",
       " <matplotlib.lines.Line2D at 0x7f3eac86f350>,\n",
       " <matplotlib.lines.Line2D at 0x7f3eac86aad0>,\n",
       " <matplotlib.lines.Line2D at 0x7f3eac955a50>,\n",
       " <matplotlib.lines.Line2D at 0x7f3eaef9be50>]"
      ]
     },
     "execution_count": 54,
     "metadata": {},
     "output_type": "execute_result"
    },
    {
     "data": {
      "image/png": "[encoded data removed]",
      "text/plain": [
       "<Figure size 432x288 with 1 Axes>"
      ]
     },
     "metadata": {
      "needs_background": "light"
     },
     "output_type": "display_data"
    }
   ],
   "source": [
    "plt.plot(centers)"
   ]
  },
  {
   "cell_type": "code",
   "execution_count": 56,
   "metadata": {},
   "outputs": [
    {
     "data": {
      "text/plain": [
       "(array([0., 0., 0., 0., 0., 1., 0., 0., 0., 0.]),\n",
       " array([0.20563099, 0.30563099, 0.40563099, 0.50563099, 0.60563099,\n",
       "        0.70563099, 0.80563099, 0.90563099, 1.00563099, 1.10563099,\n",
       "        1.20563099]),\n",
       " <a list of 10 Patch objects>)"
      ]
     },
     "execution_count": 56,
     "metadata": {},
     "output_type": "execute_result"
    },
    {
     "data": {
      "image/png": "[encoded data removed]",
      "text/plain": [
       "<Figure size 432x288 with 1 Axes>"
      ]
     },
     "metadata": {
      "needs_background": "light"
     },
     "output_type": "display_data"
    }
   ],
   "source": [
    "plt.hist(silhouette)"
   ]
  },
  {
   "cell_type": "code",
   "execution_count": 60,
   "metadata": {},
   "outputs": [],
   "source": [
    "import numpy as np\n",
    "n=3\n",
    "centers,silhouette=np.arange(1,n)"
   ]
  },
  {
   "cell_type": "code",
   "execution_count": null,
   "metadata": {},
   "outputs": [],
   "source": []
  }
 ],
 "metadata": {
  "kernelspec": {
   "display_name": "Python 3",
   "language": "python",
   "name": "python3"
  },
  "language_info": {
   "codemirror_mode": {
    "name": "ipython",
    "version": 3
   },
   "file_extension": ".py",
   "mimetype": "text/x-python",
   "name": "python",
   "nbconvert_exporter": "python",
   "pygments_lexer": "ipython3",
   "version": "3.7.4"
  }
 },
 "nbformat": 4,
 "nbformat_minor": 2
}
