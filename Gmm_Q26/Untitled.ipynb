{
 "cells": [
  {
   "cell_type": "code",
   "execution_count": 1,
   "metadata": {},
   "outputs": [],
   "source": [
    "from pyspark.sql import SQLContext\n",
    "from pyspark.sql import SparkSession\n",
    "from pyspark.mllib.linalg import Vectors\n",
    "from pyspark.ml.feature import VectorAssembler\n",
    "from pyspark.ml.clustering import GaussianMixture"
   ]
  },
  {
   "cell_type": "code",
   "execution_count": 2,
   "metadata": {},
   "outputs": [],
   "source": [
    "spark = SparkSession.builder.appName('Project').getOrCreate()"
   ]
  },
  {
   "cell_type": "code",
   "execution_count": 3,
   "metadata": {},
   "outputs": [],
   "source": [
    "store_sales=spark.read.csv(\"store_sales.tbl\", inferSchema = True, header = True, sep = '|')"
   ]
  },
  {
   "cell_type": "code",
   "execution_count": 4,
   "metadata": {},
   "outputs": [],
   "source": [
    "items=spark.read.csv(\"items.tbl\", inferSchema = True, header = True, sep = '|')"
   ]
  },
  {
   "cell_type": "code",
   "execution_count": 5,
   "metadata": {},
   "outputs": [
    {
     "name": "stdout",
     "output_type": "stream",
     "text": [
      "+-----------------+--------------+-----------+----------+----------+-------------------+\n",
      "|ss_transaction_id|ss_customer_id|ss_store_id|ss_item_id|ss_quality|              ss_ts|\n",
      "+-----------------+--------------+-----------+----------+----------+-------------------+\n",
      "|             2582|             0|        153|       745|         2|2013-07-21 01:17:01|\n",
      "|             2582|             0|        153|       651|         2|2013-07-21 01:17:01|\n",
      "|             2582|             0|        153|       967|         1|2013-07-21 01:17:01|\n",
      "|             2582|             0|        153|        10|         3|2013-07-21 01:17:01|\n",
      "|             2582|             0|        153|       301|         3|2013-07-21 01:17:01|\n",
      "|             2582|             0|        153|       176|         3|2013-07-21 01:17:01|\n",
      "|             2582|             0|        153|       967|         2|2013-07-21 01:17:01|\n",
      "|             2582|             0|        153|       990|         2|2013-07-21 01:17:01|\n",
      "|             2582|             0|        153|       967|         1|2013-07-21 01:17:01|\n",
      "|             2582|             0|        153|       774|         1|2013-07-21 01:17:01|\n",
      "|             2582|             0|        153|       561|         1|2013-07-21 01:17:01|\n",
      "|             2582|             0|        153|       687|         3|2013-07-21 01:17:01|\n",
      "|             2582|             0|        153|       233|         2|2013-07-21 01:17:01|\n",
      "|             2582|             0|        153|       887|         3|2013-07-21 01:17:01|\n",
      "|             2583|             0|        158|       504|         1|2014-08-27 06:15:46|\n",
      "|             5394|             1|        364|       717|         3|2014-01-13 14:57:52|\n",
      "|             5394|             1|        364|       355|         1|2014-01-13 14:57:52|\n",
      "|             5395|             1|        315|       418|         2|2014-02-07 23:18:16|\n",
      "|             5395|             1|        315|       664|         2|2014-02-07 23:18:16|\n",
      "|             5395|             1|        315|       845|         2|2014-02-07 23:18:16|\n",
      "+-----------------+--------------+-----------+----------+----------+-------------------+\n",
      "only showing top 20 rows\n",
      "\n"
     ]
    }
   ],
   "source": [
    "store_sales.show()"
   ]
  },
  {
   "cell_type": "code",
   "execution_count": 6,
   "metadata": {},
   "outputs": [
    {
     "name": "stdout",
     "output_type": "stream",
     "text": [
      "+---------+---------+-------------+---------------+-------+------------+----------+\n",
      "|i_item_id|   i_name|i_category_id|i_category_name|i_price|i_comp_price|i_class_id|\n",
      "+---------+---------+-------------+---------------+-------+------------+----------+\n",
      "|        0|item#0000|            0|         cat#00|  53.09|       28.33|         2|\n",
      "|        1|item#0001|            2|         cat#02|  28.89|       35.29|         8|\n",
      "|        2|item#0002|            5|         cat#05|    4.7|        8.98|        15|\n",
      "|        3|item#0003|            7|         cat#07|   79.5|       87.26|         1|\n",
      "|        4|item#0004|           10|         cat#10|  55.31|       98.76|        10|\n",
      "|        5|item#0005|           13|         cat#13|  31.11|       30.29|         5|\n",
      "|        6|item#0006|           15|         cat#15|   6.92|        11.5|        19|\n",
      "|        7|item#0007|           18|         cat#18|  81.72|       69.42|        19|\n",
      "|        8|item#0008|            1|         cat#01|  57.53|       88.45|         3|\n",
      "|        9|item#0009|            3|         cat#03|  33.33|       24.18|         5|\n",
      "|       10|item#0010|            6|         cat#06|   9.14|       12.92|         6|\n",
      "|       11|item#0011|            8|         cat#08|  83.94|       50.48|         6|\n",
      "|       12|item#0012|           11|         cat#11|  59.75|       77.04|         2|\n",
      "|       13|item#0013|           14|         cat#14|  35.55|       70.29|         8|\n",
      "|       14|item#0014|           16|         cat#16|  11.36|       13.24|         2|\n",
      "|       15|item#0015|           19|         cat#19|  86.16|      159.68|        12|\n",
      "|       16|item#0016|            2|         cat#02|  61.97|       64.53|        16|\n",
      "|       17|item#0017|            4|         cat#04|  37.77|       65.31|         3|\n",
      "|       18|item#0018|            7|         cat#07|  13.58|       12.46|         8|\n",
      "|       19|item#0019|            9|         cat#09|  88.38|      141.86|        17|\n",
      "+---------+---------+-------------+---------------+-------+------------+----------+\n",
      "only showing top 20 rows\n",
      "\n"
     ]
    }
   ],
   "source": [
    "items.show()"
   ]
  },
  {
   "cell_type": "code",
   "execution_count": 29,
   "metadata": {},
   "outputs": [
    {
     "name": "stdout",
     "output_type": "stream",
     "text": [
      "+---------+---------+-------------+---------------+-------+------------+----------+\n",
      "|i_item_id|   i_name|i_category_id|i_category_name|i_price|i_comp_price|i_class_id|\n",
      "+---------+---------+-------------+---------------+-------+------------+----------+\n",
      "|        0|item#0000|            0|         cat#00|  53.09|       28.33|         2|\n",
      "|        1|item#0001|            2|         cat#02|  28.89|       35.29|         8|\n",
      "|        2|item#0002|            5|         cat#05|    4.7|        8.98|        15|\n",
      "|        3|item#0003|            7|         cat#07|   79.5|       87.26|         1|\n",
      "|        4|item#0004|           10|         cat#10|  55.31|       98.76|        10|\n",
      "|        5|item#0005|           13|         cat#13|  31.11|       30.29|         5|\n",
      "|        6|item#0006|           15|         cat#15|   6.92|        11.5|        19|\n",
      "|        7|item#0007|           18|         cat#18|  81.72|       69.42|        19|\n",
      "|        8|item#0008|            1|         cat#01|  57.53|       88.45|         3|\n",
      "|        9|item#0009|            3|         cat#03|  33.33|       24.18|         5|\n",
      "|       10|item#0010|            6|         cat#06|   9.14|       12.92|         6|\n",
      "|       11|item#0011|            8|         cat#08|  83.94|       50.48|         6|\n",
      "|       12|item#0012|           11|         cat#11|  59.75|       77.04|         2|\n",
      "|       13|item#0013|           14|         cat#14|  35.55|       70.29|         8|\n",
      "|       14|item#0014|           16|         cat#16|  11.36|       13.24|         2|\n",
      "|       15|item#0015|           19|         cat#19|  86.16|      159.68|        12|\n",
      "|       16|item#0016|            2|         cat#02|  61.97|       64.53|        16|\n",
      "|       17|item#0017|            4|         cat#04|  37.77|       65.31|         3|\n",
      "|       18|item#0018|            7|         cat#07|  13.58|       12.46|         8|\n",
      "|       19|item#0019|            9|         cat#09|  88.38|      141.86|        17|\n",
      "+---------+---------+-------------+---------------+-------+------------+----------+\n",
      "only showing top 20 rows\n",
      "\n"
     ]
    }
   ],
   "source": [
    "items.show()"
   ]
  },
  {
   "cell_type": "code",
   "execution_count": 18,
   "metadata": {},
   "outputs": [],
   "source": []
  },
  {
   "cell_type": "code",
   "execution_count": 19,
   "metadata": {},
   "outputs": [],
   "source": []
  },
  {
   "cell_type": "code",
   "execution_count": 7,
   "metadata": {},
   "outputs": [],
   "source": [
    "store_sales.createTempView('store_sales')"
   ]
  },
  {
   "cell_type": "code",
   "execution_count": 8,
   "metadata": {},
   "outputs": [],
   "source": [
    "items.createTempView('items')"
   ]
  },
  {
   "cell_type": "code",
   "execution_count": 9,
   "metadata": {},
   "outputs": [],
   "source": [
    "q=\"SELECT ss.ss_customer_id AS cid, count(CASE WHEN i.i_class_id=1  THEN 1 ELSE NULL END) AS id1,count(CASE WHEN i.i_class_id=3  THEN 1 ELSE NULL END) AS id3,count(CASE WHEN i.i_class_id=5  THEN 1 ELSE NULL END) AS id5,count(CASE WHEN i.i_class_id=7  THEN 1 ELSE NULL END) AS id7, count(CASE WHEN i.i_class_id=9  THEN 1 ELSE NULL END) AS id9,count(CASE WHEN i.i_class_id=11 THEN 1 ELSE NULL END) AS id11,count(CASE WHEN i.i_class_id=13 THEN 1 ELSE NULL END) AS id13,count(CASE WHEN i.i_class_id=15 THEN 1 ELSE NULL END) AS id15,count(CASE WHEN i.i_class_id=2  THEN 1 ELSE NULL END) AS id2,count(CASE WHEN i.i_class_id=4  THEN 1 ELSE NULL END) AS id4,count(CASE WHEN i.i_class_id=6  THEN 1 ELSE NULL END) AS id6,count(CASE WHEN i.i_class_id=12 THEN 1 ELSE NULL END) AS id12, count(CASE WHEN i.i_class_id=8  THEN 1 ELSE NULL END) AS id8,count(CASE WHEN i.i_class_id=10 THEN 1 ELSE NULL END) AS id10,count(CASE WHEN i.i_class_id=14 THEN 1 ELSE NULL END) AS id14,count(CASE WHEN i.i_class_id=16 THEN 1 ELSE NULL END) AS id16 FROM store_sales ss INNER JOIN items i ON ss.ss_item_id = i.i_item_id WHERE i.i_category_name IN ('cat#01','cat#02','cat#03','cat#04','cat#05','cat#06','cat#07','cat#08','cat#09','cat#10','cat#11','cat#12','cat#013','cat#14','cat#15') AND ss.ss_customer_id IS NOT NULL GROUP BY ss.ss_customer_id HAVING count(ss.ss_item_id) > 3\""
   ]
  },
  {
   "cell_type": "code",
   "execution_count": 10,
   "metadata": {},
   "outputs": [],
   "source": [
    "df = spark.sql(q)"
   ]
  },
  {
   "cell_type": "code",
   "execution_count": 15,
   "metadata": {},
   "outputs": [],
   "source": [
    "assembler = VectorAssembler(inputCols=[\"cid\", \"id1\", \"id2\", \"id3\", \"id4\", \"id5\", \"id6\", \"id7\", \"id8\", \"id9\", \"id10\"],outputCol =\"features\")"
   ]
  },
  {
   "cell_type": "code",
   "execution_count": 16,
   "metadata": {},
   "outputs": [],
   "source": [
    "vd = assembler.transform(df)"
   ]
  },
  {
   "cell_type": "code",
   "execution_count": 17,
   "metadata": {},
   "outputs": [
    {
     "name": "stdout",
     "output_type": "stream",
     "text": [
      "+----+---+---+---+---+---+----+----+----+---+---+---+----+---+----+----+----+--------------------+\n",
      "| cid|id1|id3|id5|id7|id9|id11|id13|id15|id2|id4|id6|id12|id8|id10|id14|id16|            features|\n",
      "+----+---+---+---+---+---+----+----+----+---+---+---+----+---+----+----+----+--------------------+\n",
      "| 833|  2|  2|  4|  2|  2|   2|   1|   1|  1|  1|  0|   2|  3|   2|   2|   2|[833.0,2.0,1.0,2....|\n",
      "|1088|  1|  2|  1|  3|  1|   4|   2|   1|  3|  0|  1|   0|  3|   3|   2|   3|[1088.0,1.0,3.0,2...|\n",
      "|1591|  0|  3|  1|  1|  1|   0|   2|   0|  0|  2|  1|   4|  0|   2|   2|   0|[1591.0,0.0,0.0,3...|\n",
      "|1959|  0|  1|  0|  0|  1|   0|   0|   0|  0|  2|  0|   0|  0|   0|   0|   0|(11,[0,3,4,9],[19...|\n",
      "|2866|  0|  3|  3|  4|  1|   1|   2|   1|  3|  2|  2|   2|  2|   3|   1|   0|[2866.0,0.0,3.0,3...|\n",
      "|3175|  1|  1|  4|  1|  2|   0|   2|   0|  1|  2|  0|   2|  2|   2|   1|   0|[3175.0,1.0,1.0,1...|\n",
      "|3794|  0|  8|  0|  2|  0|   0|   0|   3|  3|  0|  0|   4|  0|   1|   3|   1|(11,[0,2,3,7,10],...|\n",
      "|3918|  0|  5|  3|  3|  3|   5|   3|   3|  5|  4|  2|   1|  2|   7|   3|   2|[3918.0,0.0,5.0,5...|\n",
      "|3997|  1|  2|  3|  3|  0|   1|   1|   0|  2|  0|  0|   0|  3|   3|   2|   1|[3997.0,1.0,2.0,2...|\n",
      "|4519|  1|  3|  5|  5|  2|   4|   1|   1|  4|  2|  0|   2|  3|   5|   3|   6|[4519.0,1.0,4.0,3...|\n",
      "|4935|  1|  2|  3|  2|  1|   1|   0|   0|  1|  1|  0|   0|  1|   0|   4|   3|[4935.0,1.0,1.0,2...|\n",
      "|5518|  2|  3|  3|  1|  0|   1|   0|   0|  0|  0|  1|   0|  0|   1|   2|   2|[5518.0,2.0,0.0,3...|\n",
      "|6357|  0|  2|  2|  3|  1|   3|   1|   0|  1|  0|  1|   0|  1|   3|   2|   1|[6357.0,0.0,1.0,2...|\n",
      "|6466|  0|  8|  5|  4|  3|   2|   3|   0|  3|  0|  2|   4|  5|   2|   4|   2|[6466.0,0.0,3.0,8...|\n",
      "|6620|  0|  1|  0|  0|  1|   2|   0|   0|  1|  1|  0|   1|  0|   1|   2|   0|(11,[0,2,3,4,9,10...|\n",
      "|7240|  0|  1|  0|  0|  0|   0|   0|   0|  1|  0|  0|   0|  0|   0|   0|   1|(11,[0,2,3],[7240...|\n",
      "|7253|  2|  5|  4|  5|  3|   1|   2|   1|  5|  0|  3|   1|  2|   4|   4|   7|[7253.0,2.0,5.0,5...|\n",
      "|7554|  1|  0|  2|  0|  1|   0|   0|   0|  2|  1|  0|   3|  0|   0|   1|   2|(11,[0,1,2,4,5,9]...|\n",
      "|7833|  0|  1|  2|  1|  1|   3|   2|   1|  2|  3|  1|   1|  3|   3|   2|   2|[7833.0,0.0,2.0,1...|\n",
      "|7982|  1|  0|  6|  2|  2|   4|   2|   2|  2|  2|  3|   0|  3|   0|   4|   7|[7982.0,1.0,2.0,0...|\n",
      "+----+---+---+---+---+---+----+----+----+---+---+---+----+---+----+----+----+--------------------+\n",
      "only showing top 20 rows\n",
      "\n"
     ]
    }
   ],
   "source": [
    "vd.show()"
   ]
  },
  {
   "cell_type": "code",
   "execution_count": 43,
   "metadata": {},
   "outputs": [],
   "source": [
    "gmm = GaussianMixture().setK(2).setFeaturesCol('features').setSeed(538009335)"
   ]
  },
  {
   "cell_type": "code",
   "execution_count": 25,
   "metadata": {},
   "outputs": [],
   "source": [
    "gmm.write().save(\"/home/liuba/Downloads/mlflow-master/examples/myGaussianModel\")"
   ]
  },
  {
   "cell_type": "code",
   "execution_count": 44,
   "metadata": {},
   "outputs": [],
   "source": [
    "model = gmm.fit(vd)"
   ]
  },
  {
   "cell_type": "code",
   "execution_count": 34,
   "metadata": {},
   "outputs": [
    {
     "data": {
      "text/plain": [
       "True"
      ]
     },
     "execution_count": 34,
     "metadata": {},
     "output_type": "execute_result"
    }
   ],
   "source": [
    "model.hasSummary"
   ]
  },
  {
   "cell_type": "code",
   "execution_count": 35,
   "metadata": {},
   "outputs": [],
   "source": [
    "weights = model.weights"
   ]
  },
  {
   "cell_type": "code",
   "execution_count": 38,
   "metadata": {},
   "outputs": [
    {
     "name": "stdout",
     "output_type": "stream",
     "text": [
      "[0.5330573639100111, 0.46694263608998887]\n"
     ]
    }
   ],
   "source": [
    "print(weights)"
   ]
  },
  {
   "cell_type": "code",
   "execution_count": 42,
   "metadata": {},
   "outputs": [
    {
     "ename": "NameError",
     "evalue": "name 'mean' is not defined",
     "output_type": "error",
     "traceback": [
      "\u001b[0;31m---------------------------------------------------------------------------\u001b[0m",
      "\u001b[0;31mNameError\u001b[0m                                 Traceback (most recent call last)",
      "\u001b[0;32m<ipython-input-42-f5e5c36753e0>\u001b[0m in \u001b[0;36m<module>\u001b[0;34m\u001b[0m\n\u001b[0;32m----> 1\u001b[0;31m \u001b[0mmu\u001b[0m \u001b[0;34m=\u001b[0m \u001b[0mmodel\u001b[0m\u001b[0;34m.\u001b[0m\u001b[0mgaussiansDF\u001b[0m\u001b[0;34m.\u001b[0m\u001b[0mshow\u001b[0m\u001b[0;34m(\u001b[0m\u001b[0mmean\u001b[0m\u001b[0;34m)\u001b[0m\u001b[0;34m\u001b[0m\u001b[0;34m\u001b[0m\u001b[0m\n\u001b[0m\u001b[1;32m      2\u001b[0m \u001b[0mprint\u001b[0m\u001b[0;34m(\u001b[0m\u001b[0mmu\u001b[0m\u001b[0;34m)\u001b[0m\u001b[0;34m\u001b[0m\u001b[0;34m\u001b[0m\u001b[0m\n",
      "\u001b[0;31mNameError\u001b[0m: name 'mean' is not defined"
     ]
    }
   ],
   "source": [
    "mu = model.gaussiansDF.show()\n",
    "print(mu)"
   ]
  },
  {
   "cell_type": "code",
   "execution_count": 37,
   "metadata": {},
   "outputs": [
    {
     "name": "stdout",
     "output_type": "stream",
     "text": [
      "+--------------------+--------------------+\n",
      "|                mean|                 cov|\n",
      "+--------------------+--------------------+\n",
      "|[5515.22187832696...|1.001682665018740...|\n",
      "|[5364.68276690749...|9670878.146828335...|\n",
      "+--------------------+--------------------+\n",
      "\n"
     ]
    }
   ],
   "source": [
    "model.gaussiansDF.show()"
   ]
  },
  {
   "cell_type": "code",
   "execution_count": 55,
   "metadata": {},
   "outputs": [
    {
     "name": "stdout",
     "output_type": "stream",
     "text": [
      "Cluster Centers: \n",
      "[7.12346294e+03 7.80419580e-01 2.50349650e+00 2.33426573e+00\n",
      " 9.11888112e-01 2.23916084e+00 1.06433566e+00 2.23776224e+00\n",
      " 1.43356643e+00 1.33286713e+00 1.62797203e+00]\n",
      "[584.45744681   0.7358156    2.59397163   2.27659574   0.92021277\n",
      "   2.39539007   0.98404255   2.42553191   1.38475177   1.35638298\n",
      "   1.79078014]\n",
      "[1.01384828e+04 7.04827586e-01 2.60551724e+00 2.31586207e+00\n",
      " 9.33793103e-01 2.27034483e+00 1.05517241e+00 2.44000000e+00\n",
      " 1.47586207e+00 1.37517241e+00 1.69931034e+00]\n",
      "[3.01176529e+03 7.71900826e-01 2.55371901e+00 2.46115702e+00\n",
      " 9.14049587e-01 2.26942149e+00 1.12561983e+00 2.33719008e+00\n",
      " 1.44132231e+00 1.39834711e+00 1.82644628e+00]\n",
      "[5.66789359e+03 8.46938776e-01 2.62099125e+00 2.37755102e+00\n",
      " 9.91253644e-01 2.36151603e+00 1.06997085e+00 2.43148688e+00\n",
      " 1.53644315e+00 1.41107872e+00 1.79446064e+00]\n",
      "[4.29899845e+03 7.88253478e-01 2.62287481e+00 2.41731066e+00\n",
      " 1.00927357e+00 2.45285935e+00 1.04945904e+00 2.51004637e+00\n",
      " 1.44976816e+00 1.38176198e+00 1.74652241e+00]\n",
      "[1.77042732e+03 8.19614711e-01 2.72854641e+00 2.48511384e+00\n",
      " 9.47460595e-01 2.39929947e+00 1.06129597e+00 2.47285464e+00\n",
      " 1.45884413e+00 1.41856392e+00 1.86690018e+00]\n",
      "[8.62636150e+03 7.22991690e-01 2.67174515e+00 2.48614958e+00\n",
      " 1.02631579e+00 2.42936288e+00 9.98614958e-01 2.39750693e+00\n",
      " 1.49584488e+00 1.35180055e+00 1.77146814e+00]\n"
     ]
    }
   ],
   "source": [
    "print(\"Cluster Centers: \")\n",
    "for center in centers:\n",
    "    print(center)"
   ]
  },
  {
   "cell_type": "code",
   "execution_count": 57,
   "metadata": {},
   "outputs": [
    {
     "ename": "NameError",
     "evalue": "name 'mlflow' is not defined",
     "output_type": "error",
     "traceback": [
      "\u001b[0;31m---------------------------------------------------------------------------\u001b[0m",
      "\u001b[0;31mNameError\u001b[0m                                 Traceback (most recent call last)",
      "\u001b[0;32m<ipython-input-57-0597143cd246>\u001b[0m in \u001b[0;36m<module>\u001b[0;34m\u001b[0m\n\u001b[0;32m----> 1\u001b[0;31m \u001b[0mmlflow\u001b[0m\u001b[0;34m.\u001b[0m\u001b[0mlog_metric\u001b[0m\u001b[0;34m(\u001b[0m\u001b[0;34m'center'\u001b[0m\u001b[0;34m,\u001b[0m \u001b[0mcenter\u001b[0m\u001b[0;34m)\u001b[0m\u001b[0;34m\u001b[0m\u001b[0;34m\u001b[0m\u001b[0m\n\u001b[0m",
      "\u001b[0;31mNameError\u001b[0m: name 'mlflow' is not defined"
     ]
    }
   ],
   "source": [
    "mlflow.log_metric('center', center)"
   ]
  },
  {
   "cell_type": "code",
   "execution_count": null,
   "metadata": {},
   "outputs": [],
   "source": []
  }
 ],
 "metadata": {
  "kernelspec": {
   "display_name": "Python 3",
   "language": "python",
   "name": "python3"
  },
  "language_info": {
   "codemirror_mode": {
    "name": "ipython",
    "version": 3
   },
   "file_extension": ".py",
   "mimetype": "text/x-python",
   "name": "python",
   "nbconvert_exporter": "python",
   "pygments_lexer": "ipython3",
   "version": "3.7.4"
  }
 },
 "nbformat": 4,
 "nbformat_minor": 2
}
